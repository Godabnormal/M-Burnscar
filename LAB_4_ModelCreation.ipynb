{
 "cells": [
  {
   "cell_type": "markdown",
   "id": "13243a6e",
   "metadata": {},
   "source": [
    "# --------------------------------------- INITIALIZATION ---------------------------------------"
   ]
  },
  {
   "cell_type": "markdown",
   "id": "2b975fee",
   "metadata": {},
   "source": [
    "# Import PYTHON PACKAGES"
   ]
  },
  {
   "cell_type": "code",
   "execution_count": 2,
   "id": "8c5a2d96",
   "metadata": {
    "tags": []
   },
   "outputs": [],
   "source": [
   "from glob import glob ## used to manage finding path, files >>> docs.python.org/3/library/glob.html\n",
     "import rasterio as rio ## is a module that handles satellite imagery and geography. To extract numerical information from image data >>> rasterio.readthedocs.io\n",
     "import numpy as np ## used for creating multidimensional arrays >>> numpy.org\n",
     "import earthpy.plot as ep ## used for plotting raster images >>> earthpy.readthedocs.io\n",
     "from skimage import io ## Image management module >>> scikit-image.org\n",
     "import matplotlib.pyplot as plt ## Module for displaying images and graphs >>> matplotlib.org\n",
     "from matplotlib.colors import ListedColormap ## for defining the color space used for displaying images\n",
     "import pandas as pd ## A module that will help manage data more easily. By making it in table format (Data Frame) >>> pandas.pydata.org\n",
     "import seaborn as sns ## is a module suitable for displaying statistical graphics >>> seaborn.pydata.org\n",
     "### The module for scaling numerical data before modeling is Normalization >>> scikit-learn.org\n",
     "from sklearn.preprocessing import StandardScaler \n",
     "from sklearn.preprocessing import MinMaxScaler \n",
     "from sklearn.preprocessing import RobustScaler\n",
     "###\n",
     "\n",
     "from sklearn import metrics ## for creating Confustion matrix >>> scikit-learn.org\n",
     "\n",
     "from sklearn.metrics import classification_report ## Details of the model's classification results >>> scikit-learn.org\n",
     "\n",
     "from sklearn.metrics import accuracy_score ## for calculating the classification accuracy of the model >>> scikit-learn.org\n",
     "\n",
     "from sklearn.model_selection import train_test_split ## Splitting numbers used for testing and training for Hold-out Method >>> scikit-learn.org\n",
     "\n",
     "from sklearn.model_selection import cross_val_score ## used to calculate test results Cross-validation for data set >>> scikit-learn.org\n",
     "\n",
     "from sklearn.model_selection import StratifiedKFold ## create test Cross-validation for data set >>> scikit-learn.org\n",
     "\n",
     "from sklearn.neighbors import KNeighborsClassifier ## Calling the K-Nearest Neighbor Algorithm >>> scikit-learn.org\n",
     "\n",
     "from sklearn.ensemble import RandomForestClassifier ## Calling the RandomForest algorithm >>> scikit-learn.org\n",
     "\n",
     "from sklearn.svm import SVC ## Running Support Vector Machine algorithms >>> scikit-learn.org\n",
     "\n",
     "import lightgbm as lgb ## Calling the Light Gradient Boosted Machine Algorithm >>> lightgbm.readthedocs.io\n",
     "\n",
     "import warnings ## Module for handling python kernel notifications\n",
     "warnings.filterwarnings(action='ignore') ## Turn off all notifications from the system."
    ]
	},
   {
    "cell_type": "markdown",
    "id": "879be413",
    "metadata": {},
    "source": [
     "# Set PATH"
    ]
   },
   {
    "cell_type": "code",
    "execution_count": 4,
    "id": "9e99faf9",
    "metadata": {
     "tags": []
    },
    "outputs": [],
    "source": [
     "SEC_1_POST_QPB_IMG_PATH = 'IMAGES/PB/1/' ## Image folder\n",
     "SEC_2_POST_QPB_IMG_PATH = 'IMAGES/PB/2/' ## Image folder\n",
     "SEC_3_POST_QPB_IMG_PATH = 'IMAGES/PB/3/' ## Image folder\n",
     "SEC_4_POST_QPB_IMG_PATH = 'IMAGES/PB/4/' ## Image folder\n",
     "\n",
     "SEC_1_POST_QPB = \"R1_T47QPB_20210228T034701_\" ## File name in folder\n",
     "SEC_2_POST_QPB = \"R2_T47QPB_20210228T034701_\" ## File name in folder\n",
     "SEC_3_POST_QPB = \"R3_T47QPB_20210228T034701_\" ## File name in folder\n",
     "SEC_4_POST_QPB = \"R4_T47QPB_20210228T034701_\" ## File name in folder\n",
     "\n",
     "SEC_1_POST_QPB_GROUNDTRUTH_PATH = \"R1_T47QPB_20210228T034701_GT_20m.tif\" #name of answer image file\n",
     "SEC_2_POST_QPB_GROUNDTRUTH_PATH = \"R2_T47QPB_20210228T034701_GT_20m.tif\" #name of answer image file\n",
     "SEC_3_POST_QPB_GROUNDTRUTH_PATH = \"R3_T47QPB_20210228T034701_GT_20m.tif\" #name of answer image file\n",
     "SEC_4_POST_QPB_GROUNDTRUTH_PATH = \"R4_T47QPB_20210228T034701_GT_20m.tif\" #name of answer image file\n",
     "\n",
     "SEC_1_POST_QPB_IMG_SET = glob(f'{SEC_1_POST_QPB_IMG_PATH }{SEC_1_POST_QPB}*B?*.tif') #use glob to collect paths and names of given files\n",
     "SEC_2_POST_QPB_IMG_SET = glob(f'{SEC_2_POST_QPB_IMG_PATH }{SEC_2_POST_QPB}*B?*.tif') #use glob to collect paths and names of given files\n",
     "SEC_3_POST_QPB_IMG_SET = glob(f'{SEC_3_POST_QPB_IMG_PATH }{SEC_3_POST_QPB}*B?*.tif') #use glob to collect paths and names of given files\n",
     "SEC_4_POST_QPB_IMG_SET = glob(f'{SEC_4_POST_QPB_IMG_PATH }{SEC_4_POST_QPB}*B?*.tif') #use glob to collect paths and names of given files\n",
     "\n",
     "SEC_1_POST_QPB_IMG_SET.sort() ## Arrange spectral band images of sentinel-2 satellite\n",
     "SEC_2_POST_QPB_IMG_SET.sort() ## Arrange spectral band images of sentinel-2 satellite\n",
     "SEC_3_POST_QPB_IMG_SET.sort() ## Arrange spectral band images of sentinel-2 satellite\n",
     "SEC_4_POST_QPB_IMG_SET.sort() ## Arrange spectral band images of sentinel-2 satellite"
    ]
   },
   {
    "cell_type": "markdown",
    "id": "d30721be",
    "metadata": {},
    "source": [
     "# --------------------------------------- DATA ACQUISITION ------- --------------------------------"
    ]
   },
   {
    "cell_type": "markdown",
    "id": "1652bee8",
    "metadata": {},
    "source": [
     "# Import image data with Rasterio"
    ]
   },
   {
    "cell_type": "code",
    "execution_count": 5,
    "id": "e1104b89",
    "metadata": {
     "tags": []
    },
    "outputs": [],
    "source": [
     "SEC_1_POST_QPB_RASTER = np.array([]) ## Create a numpy array to store all rasterized images\n",
     "SEC_2_POST_QPB_RASTER = np.array([]) ## Create a numpy array to store all rasterized images\n",
     "SEC_3_POST_QPB_RASTER = np.array([]) ## Create a numpy array to store all rasterized images\n",
     "SEC_4_POST_QPB_RASTER = np.array([]) ## Create a numpy array to store all rasterized images\n",
     "\n",
     "SEC_1_BUFF = [] ## Create a list to store raster data for each image\n",
     "SEC_2_BUFF = [] ## Create a list to store raster data for each image\n",
     "SEC_3_BUFF = [] ## Create a list to store raster data for each image\n",
     "SEC_4_BUFF = [] ## Create a list to store raster data for each image\n",
     "\n",
     "for _ in SEC_1_POST_QPB_IMG_SET:\n",
     " with rio.open(_, 'r') as img: ## Using rio to read satellite images and convert them numerically\n",
     " SEC_1_BUFF.append(img.read(1))\n",
     " \n",
     "for _ in SEC_2_POST_QPB_IMG_SET:\n",
     " with rio.open(_, 'r') as img: ## Using rio to read satellite images and convert them numerically\n",
     " SEC_2_BUFF.append(img.read(1))\n",
     " \n",
     "for _ in SEC_3_POST_QPB_IMG_SET:\n",
     " with rio.open(_, 'r') as img: ## Using rio to read satellite images and convert them numerically\n",
     " SEC_3_BUFF.append(img.read(1))\n",
     " \n",
     "for _ in SEC_4_POST_QPB_IMG_SET:\n",
     " with rio.open(_, 'r') as img: ## Using rio to read satellite images and convert them numerically\n",
     " SEC_4_BUFF.append(img.read(1))\n",
     " \n",
     " \n",
     "SEC_1_POST_QPB_RASTER = np.stack(SEC_1_BUFF) ## Take the list that stores the raster data of each image and convert it to a multidimensional array\n",
     "SEC_2_POST_QPB_RASTER = np.stack(SEC_2_BUFF) ## Take the list that stores the raster data of each image and convert it to a multidimensional array\n",
     "SEC_3_POST_QPB_RASTER = np.stack(SEC_3_BUFF) ## Take the list that stores the raster data of each image and convert it to a multidimensional array\n",
     "SEC_4_POST_QPB_RASTER = np.stack(SEC_4_BUFF) ## Take the list that stores the raster data of each image and convert it to a multidimensional array\n",
     "\n",
"Available_bands = [ 'Blue', 'Green', 'Red','VRE1','VRE2','VRE3', 'NIR', 'SWIR1', 'SWIR2'] ## list of bands used in the arrangement. in order"
    ]
   },
   {
    "cell_type": "markdown",
    "id": "6edc7d66",
    "metadata": {},
    "source": [
     "# Import the answer image (Ground Truth)"
    ]
   },
   {
    "cell_type": "code",
    "execution_count": 6,
    "id": "07be1602",
    "metadata": {
     "tags": []
    },
    "outputs": [],
    "source": [
     "SEC_1_POST_QPB_GROUNDTRUTH = io.imread( ## Import solution photo with Skimage\n",
     " SEC_1_POST_QPB_IMG_PATH + SEC_1_POST_QPB_GROUNDTRUTH_PATH, ## set file address\n",
     " as_gray=True ## Read images as Gray Scale\n",
     ") \n",
     "SEC_2_POST_QPB_GROUNDTRUTH = io.imread( ## Import solution photo with Skimage\n",
     " SEC_2_POST_QPB_IMG_PATH + SEC_2_POST_QPB_GROUNDTRUTH_PATH, ## set file address\n",
     " as_gray=True ## Read images as Gray Scale\n",
     ") \n",
     "\n",
     "SEC_3_POST_QPB_GROUNDTRUTH = io.imread( ## Import solution photo with Skimage\n",
     " SEC_1_POST_QPB_IMG_PATH + SEC_1_POST_QPB_GROUNDTRUTH_PATH, ## set file address\n",
     " as_gray=True ## Read images as Gray Scale\n",
     ") \n",
     "SEC_4_POST_QPB_GROUNDTRUTH = io.imread( ## Import solution photo with Skimage\n",
     " SEC_2_POST_QPB_IMG_PATH + SEC_2_POST_QPB_GROUNDTRUTH_PATH, ## set file address\n",
     " as_gray=True ## Read images as Gray Scale\n",
     ") \n",
     "\n",
     "\n",
     "SEC_1_POST_QPB_GROUNDTRUTH_GRAY = np.array(SEC_1_POST_QPB_GROUNDTRUTH) ## Convert List to Numpy Array\n",
     "SEC_2_POST_QPB_GROUNDTRUTH_GRAY = np.array(SEC_2_POST_QPB_GROUNDTRUTH) ## Convert List to Numpy Array\n",
     "SEC_3_POST_QPB_GROUNDTRUTH_GRAY = np.array(SEC_1_POST_QPB_GROUNDTRUTH) ## Convert List to Numpy Array\n",
     "SEC_4_POST_QPB_GROUNDTRUTH_GRAY = np.array(SEC_2_POST_QPB_GROUNDTRUTH) ## Convert List to Numpy Array\n",
     "\n",
     "intensity = 0.6 ## Set the intensity from 0 - 1 (0 is the most intense)\n",
     "\n",
     "SEC_1_POST_QPB_GROUNDTRUTH_MASK = (SEC_1_POST_QPB_GROUNDTRUTH_GRAY < intensity).astype(int) ## Select only pixels with intensity less than the specified intensity\n",
     "SEC_2_POST_QPB_GROUNDTRUTH_MASK = (SEC_2_POST_QPB_GROUNDTRUTH_GRAY < intensity).astype(int) ## Select only pixels with intensity less than the specified intensity\n",
     "SEC_3_POST_QPB_GROUNDTRUTH_MASK = (SEC_3_POST_QPB_GROUNDTRUTH_GRAY < intensity).astype(int) ## Select only pixels with intensity less than the specified intensity\n",
     "SEC_4_POST_QPB_GROUNDTRUTH_MASK = (SEC_4_POST_QPB_GROUNDTRUTH_GRAY < intensity).astype(int) ## Select only pixels with intensity less than the specified intensity value."
    ]
   },
   {
    "cell_type": "markdown",
    "id": "695b6936",
    "metadata": {},
    "source": [
     "# --------------------------------------- DATA EXPLORATION ------- --------------------------------"
    ]
   },
   {
    "cell_type": "markdown",
    "id": "ac96bfa3",
    "metadata": {},
    "source": [
     "# Convert Array data to DataFrame"
    ]
   },
   {
    "cell_type": "markdown",
    "id": "d034bd9d",
    "metadata": {},
    "source": [
     "### Image data"
    ]
   },
   {
    "cell_type": "code",
    "execution_count": 7,
    "id": "d2dbc2c7",
    "metadata": {
     "tags": []
    },
    "outputs": [],
    "source": [
     "SEC_1_POST_QPB_DF = np.moveaxis(SEC_1_POST_QPB_RASTER, 0, -1) ## Change Array dimension\n",
     "SEC_2_POST_QPB_DF = np.moveaxis(SEC_2_POST_QPB_RASTER, 0, -1) ## Change Array dimension\n",
     "SEC_3_POST_QPB_DF = np.moveaxis(SEC_3_POST_QPB_RASTER, 0, -1) ## Change Array dimension\n",
     "SEC_4_POST_QPB_DF = np.moveaxis(SEC_4_POST_QPB_RASTER, 0, -1) ## Change Array dimension\n",
     "\n",
     "SEC_1_POST_QPB_DF = SEC_1_POST_QPB_DF.reshape(-1, 9) ## Change the shape of the Array\n",
     "SEC_2_POST_QPB_DF = SEC_2_POST_QPB_DF.reshape(-1, 9) ## Change the shape of the Array\n",
     "SEC_3_POST_QPB_DF = SEC_3_POST_QPB_DF.reshape(-1, 9) ## Change the shape of the Array\n",
     "SEC_4_POST_QPB_DF = SEC_4_POST_QPB_DF.reshape(-1, 9) ## Change the shape of the Array\n",
     "\n",
     "SEC_1_POST_QPB_DF = pd.DataFrame(SEC_1_POST_QPB_DF) ## Convert Array to DataFrame\n",
     "SEC_2_POST_QPB_DF = pd.DataFrame(SEC_2_POST_QPB_DF) ## Convert Array to DataFrame\n",
     "SEC_3_POST_QPB_DF = pd.DataFrame(SEC_3_POST_QPB_DF) ## Convert Array to DataFrame\n",
     "SEC_4_POST_QPB_DF = pd.DataFrame(SEC_4_POST_QPB_DF) ## Convert Array to DataFrame"
    ]
   },
   {
    "cell_type": "markdown",
    "id": "c10a27d6",
    "metadata": {},
    "source": [
     "### Answer"
    ]
   },
   {
    "cell_type": "code",
    "execution_count": 8,
    "id": "322e5fbc",
    "metadata": {
     "tags": []
    },
    "outputs": [],
    "source": [
     "SEC_1_POST_QPB_GROUNDTRUTH_DF = SEC_1_POST_QPB_GROUNDTRUTH_MASK.reshape(-1)\n",
     "SEC_2_POST_QPB_GROUNDTRUTH_DF = SEC_2_POST_QPB_GROUNDTRUTH_MASK.reshape(-1)\n",
     "SEC_3_POST_QPB_GROUNDTRUTH_DF = SEC_3_POST_QPB_GROUNDTRUTH_MASK.reshape(-1)\n",
"SEC_4_POST_QPB_GROUNDTRUTH_DF = SEC_4_POST_QPB_GROUNDTRUTH_MASK.reshape(-1)\n",
     "\n",
     "SEC_1_POST_QPB_GROUNDTRUTH_DF = pd.DataFrame(SEC_1_POST_QPB_GROUNDTRUTH_DF)\n",
     "SEC_2_POST_QPB_GROUNDTRUTH_DF = pd.DataFrame(SEC_2_POST_QPB_GROUNDTRUTH_DF)\n",
     "SEC_3_POST_QPB_GROUNDTRUTH_DF = pd.DataFrame(SEC_3_POST_QPB_GROUNDTRUTH_DF)\n",
     "SEC_4_POST_QPB_GROUNDTRUTH_DF = pd.DataFrame(SEC_4_POST_QPB_GROUNDTRUTH_DF)"
    ]
   },
   {
    "cell_type": "markdown",
    "id": "d68a8e3e",
    "metadata": {},
    "source": [
     "## Change feature name"
    ]
   },
   {
    "cell_type": "markdown",
    "id": "81229def",
    "metadata": {},
    "source": [
     "### Image data"
    ]
   },
   {
    "cell_type": "code",
    "execution_count": 9,
    "id": "78e6e078",
    "metadata": {
     "tags": []
    },
    "outputs": [],
    "source": [
     "for _ in range(0,len(Available_bands)): ## Loop to change the name according to the list of bands initially defined. (Available_bands)\n",
     " SEC_1_POST_QPB_DF = SEC_1_POST_QPB_DF.rename(columns={_: Available_bands[_]})\n",
     " SEC_2_POST_QPB_DF = SEC_2_POST_QPB_DF.rename(columns={_: Available_bands[_]})\n",
     " SEC_3_POST_QPB_DF = SEC_3_POST_QPB_DF.rename(columns={_: Available_bands[_]})\n",
     " SEC_4_POST_QPB_DF = SEC_4_POST_QPB_DF.rename(columns={_: Available_bands[_]})"
    ]
   },
   {
    "cell_type": "markdown",
    "id": "3fef6b67",
    "metadata": {},
    "source": [
     "### Answer"
    ]
   },
   {
    "cell_type": "code",
    "execution_count": 10,
    "id": "bed08b0f",
    "metadata": {
     "tags": []
    },
    "outputs": [],
    "source": [
     "SEC_1_POST_QPB_GROUNDTRUTH_DF = SEC_1_POST_QPB_GROUNDTRUTH_DF.rename(columns={0: 'Label'})\n",
     "SEC_2_POST_QPB_GROUNDTRUTH_DF = SEC_2_POST_QPB_GROUNDTRUTH_DF.rename(columns={0: 'Label'})\n",
     "SEC_3_POST_QPB_GROUNDTRUTH_DF = SEC_3_POST_QPB_GROUNDTRUTH_DF.rename(columns={0: 'Label'})\n",
     "SEC_4_POST_QPB_GROUNDTRUTH_DF = SEC_4_POST_QPB_GROUNDTRUTH_DF.rename(columns={0: 'Label'})"
    ]
   },
   {
    "cell_type": "markdown",
    "id": "a01517c5",
    "metadata": {},
    "source": [
     "# --------------------------------------- DATA PREPARATION ------- --------------------------------"
    ]
   },
   {
    "cell_type": "code",
    "execution_count": 11,
    "id": "a25a293f",
    "metadata": {
     "tags": []
    },
    "outputs": [],
    "source": [
     "SEC_1_DF = SEC_1_POST_QPB_DF ## Image data\n",
     "SEC_2_DF = SEC_2_POST_QPB_DF ## Image data\n",
     "SEC_3_DF = SEC_3_POST_QPB_DF ## Image data\n",
     "SEC_4_DF = SEC_4_POST_QPB_DF ## Image data\n",
     "\n",
     "SEC_1_LABEL = SEC_1_POST_QPB_GROUNDTRUTH_DF ## Answer\n",
     "SEC_2_LABEL = SEC_2_POST_QPB_GROUNDTRUTH_DF ## Answer\n",
     "SEC_3_LABEL = SEC_3_POST_QPB_GROUNDTRUTH_DF ## Answer\n",
     "SEC_4_LABEL = SEC_4_POST_QPB_GROUNDTRUTH_DF ## Answer"
    ]
   },
   {
    "cell_type": "markdown",
    "id": "41a5cd27",
    "metadata": {},
    "source": [
     "# Extract Feature (Feature engineering)"
    ]
   },
   {
    "cell_type": "markdown",
    "id": "4358290b",
    "metadata": {},
    "source": [
     "## Extract new features from spectral reflectance values in DataFrame"
    ]
   },
   {
    "cell_type": "markdown",
    "id": "17d2d5a5",
    "metadata": {},
    "source": [
     "### Geographic index value (Geographical index) calculated from the reflection value of each spectral wave"
    ]
   },
   {
    "cell_type": "code",
    "execution_count": 12,
    "id": "0f00c106",
    "metadata": {
     "tags": []
    },
    "outputs": [],
    "source": [
	  "SEC_1_DF['NDVI'] = SEC_1_DF.apply(lambda row: (row.NIR - row.Red)/(row.NIR + row.Red), axis=1) ## Normalized Difference Vegetation Index\n",
    "SEC_2_DF['NDVI'] = SEC_2_DF.apply(lambda row: (row.NIR - row.Red)/(row.NIR + row.Red), axis=1) ## Normalized Difference Vegetation Index\n",
    "SEC_1_DF['GNDVI'] = SEC_1_DF.apply(lambda row: (row.NIR - row.Green)/(row.NIR + row.Green), axis=1) ## Green Normalized Difference Vegetation Index\n",
    "SEC_2_DF['GNDVI'] = SEC_2_DF.apply(lambda row: (row.NIR - row.Green)/(row.NIR + row.Green), axis=1) ## Green Normalized Difference Vegetation Index\n",
    "SEC_1_DF['EVI'] = SEC_1_DF.apply(lambda row: (2.5*((row.NIR - row.Red) / ((row.NIR + 6) * (row.Red - 7.5) * (row.Blue + 1)))), axis=1) ## Enhanced Vegetation Index\n",
    "SEC_2_DF['EVI'] = SEC_2_DF.apply(lambda row: (2.5*((row.NIR - row.Red) / ((row.NIR + 6) * (row.Red - 7.5) * (row.Blue + 1)))), axis=1) ## Enhanced Vegetation Index\n",
    "SEC_1_DF['AVI'] = SEC_1_DF.apply(lambda row: ((row.NIR* (1 - row.Red) * (row.NIR - row.Red))**(1/3)), axis=1) #\n",
    "SEC_2_DF['AVI'] = SEC_2_DF.apply(lambda row: ((row.NIR* (1 - row.Red) * (row.NIR - row.Red))**(1/3)), axis=1) #\n",
    "SEC_1_DF['SAVI'] = SEC_1_DF.apply(lambda row: (((row.NIR - row.Red) / (row.NIR + row.Red + 0.428)) * (1.428)), axis=1) ## Soil Adjusted Vegetation Index\n",
    "SEC_2_DF['SAVI'] = SEC_2_DF.apply(lambda row: (((row.NIR - row.Red) / (row.NIR + row.Red + 0.428)) * (1.428)), axis=1) ## Soil Adjusted Vegetation Index\n",
    "SEC_1_DF['NDMI'] = SEC_1_DF.apply(lambda row: (row.NIR - row.SWIR1)/(row.NIR + row.SWIR1), axis=1) ## Normalized Difference Moisture Index\n",
    "SEC_2_DF['NDMI'] = SEC_2_DF.apply(lambda row: (row.NIR - row.SWIR1)/(row.NIR + row.SWIR1), axis=1) ## Normalized Difference Moisture Index\n",
    "SEC_1_DF['MSI'] = SEC_1_DF.apply(lambda row: (row.SWIR1 / row.NIR), axis=1) ## Moisture Stress Index\n",
    "SEC_2_DF['MSI'] = SEC_2_DF.apply(lambda row: (row.SWIR1 / row.NIR), axis=1) ## Moisture Stress Index\n",
    "SEC_1_DF['NBRI'] = SEC_1_DF.apply(lambda row: (row.NIR - row.SWIR2)/(row.NIR + row.SWIR2), axis=1) ## Normalized Burned Ratio Index\n",
    "SEC_2_DF['NBRI'] = SEC_2_DF.apply(lambda row: (row.NIR - row.SWIR2)/(row.NIR + row.SWIR2), axis=1) ## Normalized Burned Ratio Index\n",
    "SEC_1_DF['BSI'] = SEC_1_DF.apply(lambda row: (row.SWIR1 + row.Red) - (row.NIR + row.Blue) / (row.SWIR1 + row.Red) + (row.NIR + row.Blue), axis=1) ## Bare Soil Index\n",
    "SEC_2_DF['BSI'] = SEC_2_DF.apply(lambda row: (row.SWIR1 + row.Red) - (row.NIR + row.Blue) / (row.SWIR1 + row.Red) + (row.NIR + row.Blue), axis=1) ## Bare Soil Index\n",
    "SEC_1_DF['NDWI'] = SEC_1_DF.apply(lambda row: (row.Green - row.NIR)/(row.Green + row.NIR), axis=1) ## Normalized Difference Water Index\n",
    "SEC_2_DF['NDWI'] = SEC_2_DF.apply(lambda row: (row.Green - row.NIR)/(row.Green + row.NIR), axis=1) ## Normalized Difference Water Index\n",
    "SEC_1_DF['ARVI'] = SEC_1_DF.apply(lambda row: (row.NIR - (2 * row.Red) + row.Blue) / (row.NIR + (2 * row.Red) + row.Blue), axis=1) ## Atmospherically Resistant Vegetation Index\n",
    "SEC_2_DF['ARVI'] = SEC_2_DF.apply(lambda row: (row.NIR - (2 * row.Red) + row.Blue) / (row.NIR + (2 * row.Red) + row.Blue), axis=1) ## Atmospherically Resistant Vegetation Index\n",
    "SEC_1_DF['SIPI'] = SEC_1_DF.apply(lambda row: ((row.NIR-row.Blue)/(row.NIR-row.Red)), axis=1) ## Structure Insensitive Pigment Index\n",
    "SEC_2_DF['SIPI'] = SEC_2_DF.apply(lambda row: ((row.NIR-row.Blue)/(row.NIR-row.Red)), axis=1) ## Structure Insensitive Pigment Index\n",
    "\n",
    "SEC_3_DF['NDVI'] = SEC_3_DF.apply(lambda row: (row.NIR - row.Red)/(row.NIR + row.Red), axis=1) ## Normalized Difference Vegetation Index\n",
    "SEC_4_DF['NDVI'] = SEC_4_DF.apply(lambda row: (row.NIR - row.Red)/(row.NIR + row.Red), axis=1) ## Normalized Difference Vegetation Index\n",
    "SEC_3_DF['GNDVI'] = SEC_3_DF.apply(lambda row: (row.NIR - row.Green)/(row.NIR + row.Green), axis=1) ## Green Normalized Difference Vegetation Index\n",
    "SEC_4_DF['GNDVI'] = SEC_4_DF.apply(lambda row: (row.NIR - row.Green)/(row.NIR + row.Green), axis=1) ## Green Normalized Difference Vegetation Index\n",
    "SEC_3_DF['EVI'] = SEC_3_DF.apply(lambda row: (2.5*((row.NIR - row.Red) / ((row.NIR + 6) * (row.Red - 7.5) * (row.Blue + 1)))), axis=1) ## Enhanced Vegetation Index\n",
    "SEC_4_DF['EVI'] = SEC_4_DF.apply(lambda row: (2.5*((row.NIR - row.Red) / ((row.NIR + 6) * (row.Red - 7.5) * (row.Blue + 1)))), axis=1) ## Enhanced Vegetation Index\n",
    "SEC_3_DF['AVI'] = SEC_3_DF.apply(lambda row: ((row.NIR* (1 - row.Red) * (row.NIR - row.Red))**(1/3)), axis=1) #\n",
    "SEC_4_DF['AVI'] = SEC_4_DF.apply(lambda row: ((row.NIR* (1 - row.Red) * (row.NIR - row.Red))**(1/3)), axis=1) #\n",
    "SEC_3_DF['SAVI'] = SEC_3_DF.apply(lambda row: (((row.NIR - row.Red) / (row.NIR + row.Red + 0.428)) * (1.428)), axis=1) ## Soil Adjusted Vegetation Index\n",
    "SEC_4_DF['SAVI'] = SEC_4_DF.apply(lambda row: (((row.NIR - row.Red) / (row.NIR + row.Red + 0.428)) * (1.428)), axis=1) ## Soil Adjusted Vegetation Index\n",
    "SEC_3_DF['NDMI'] = SEC_3_DF.apply(lambda row: (row.NIR - row.SWIR1)/(row.NIR + row.SWIR1), axis=1) ## Normalized Difference Moisture Index\n",
    "SEC_4_DF['NDMI'] = SEC_4_DF.apply(lambda row: (row.NIR - row.SWIR1)/(row.NIR + row.SWIR1), axis=1) ## Normalized Difference Moisture Index\n",
    "SEC_3_DF['MSI'] = SEC_3_DF.apply(lambda row: (row.SWIR1 / row.NIR), axis=1) ## Moisture Stress Index\n",
    "SEC_4_DF['MSI'] = SEC_4_DF.apply(lambda row: (row.SWIR1 / row.NIR), axis=1) ## Moisture Stress Index\n",
    "SEC_3_DF['NBRI'] = SEC_3_DF.apply(lambda row: (row.NIR - row.SWIR2)/(row.NIR + row.SWIR2), axis=1) ## Normalized Burned Ratio Index\n",
    "SEC_4_DF['NBRI'] = SEC_4_DF.apply(lambda row: (row.NIR - row.SWIR2)/(row.NIR + row.SWIR2), axis=1) ## Normalized Burned Ratio Index\n",
    "SEC_3_DF['BSI'] = SEC_3_DF.apply(lambda row: (row.SWIR1 + row.Red) - (row.NIR + row.Blue) / (row.SWIR1 + row.Red) + (row.NIR + row.Blue), axis=1) ## Bare Soil Index\n",
    "SEC_4_DF['BSI'] = SEC_4_DF.apply(lambda row: (row.SWIR1 + row.Red) - (row.NIR + row.Blue) / (row.SWIR1 + row.Red) + (row.NIR + row.Blue), axis=1) ## Bare Soil Index\n",
    "SEC_3_DF['NDWI'] = SEC_3_DF.apply(lambda row: (row.Green - row.NIR)/(row.Green + row.NIR), axis=1) ## Normalized Difference Water Index\n",
    "SEC_4_DF['NDWI'] = SEC_4_DF.apply(lambda row: (row.Green - row.NIR)/(row.Green + row.NIR), axis=1) ## Normalized Difference Water Index\n",
    "SEC_3_DF['ARVI'] = SEC_3_DF.apply(lambda row: (row.NIR - (2 * row.Red) + row.Blue) / (row.NIR + (2 * row.Red) + row.Blue), axis=1) ## Atmospherically Resistant Vegetation Index\n",
    "SEC_4_DF['ARVI'] = SEC_4_DF.apply(lambda row: (row.NIR - (2 * row.Red) + row.Blue) / (row.NIR + (2 * row.Red) + row.Blue), axis=1) ## Atmospherically Resistant Vegetation Index\n",
    "SEC_3_DF['SIPI'] = SEC_3_DF.apply(lambda row: ((row.NIR-row.Blue)/(row.NIR-row.Red)), axis=1) ## Structure Insensitive Pigment Index\n",
    "SEC_4_DF['SIPI'] = SEC_4_DF.apply(lambda row: ((row.NIR-row.Blue)/(row.NIR-row.Red)), axis=1) ## Structure Insensitive Pigment Index"
   ]
  },
  {
  "cell_type": "markdown",
    "id": "835dbee3",
    "metadata": {},
    "source": [
     "## Combine all training image data together."
    ]
   },
   {
    "cell_type": "code",
    "execution_count": 13,
    "id": "53cd55f2",
    "metadata": {
     "tags": []
    },
    "outputs": [],
    "source": [
     "M_SEC_1_DF = pd.concat([SEC_1_DF, SEC_1_LABEL], ## Combine image data and results\n",
     " axis=1, ## combined in columns\n",
     " sort=False ## Do not rearrange data\n",
     " )\n",
     "\n",
     "M_SEC_2_DF = pd.concat([SEC_2_DF, SEC_2_LABEL], ## Combine image data and results\n",
     " axis=1, ## combined in columns\n",
     " sort=False ## Do not rearrange data\n",
     " )\n",
     "\n",
     "M_SEC_3_DF = pd.concat([SEC_3_DF, SEC_3_LABEL], ## Combine image data and results\n",
     " axis=1, ## combined in columns\n",
     " sort=False ## Do not rearrange data\n",
     " )\n",
     "\n",
     "M_SEC_4_DF = pd.concat([SEC_4_DF, SEC_4_LABEL], ## Combine image data and results\n",
     " axis=1, ## combined in columns\n",
     " sort=False ## Do not rearrange data\n",
     " )\n",
     "\n",
     "DF_SET = pd.concat([M_SEC_1_DF, M_SEC_2_DF, M_SEC_3_DF, M_SEC_4_DF])\n",
     "DF_SET = DF_SET.reset_index(drop=True)"
    ]
   },
   {
    "cell_type": "markdown",
    "id": "5f19ed50",
    "metadata": {},
    "source": [
     "# DATA CLEANING"
    ]
   },
   {
    "cell_type": "markdown",
    "id": "9c5b7551",
    "metadata": {},
    "source": [
     "## Deal with data that cannot be calculated"
    ]
   },
   {
    "cell_type": "code",
    "execution_count": 14,
    "id": "c41db22d",
    "metadata": {
     "tags": []
    },
    "outputs": [],
    "source": [
     "DF_SET = DF_SET.replace([np.inf, -np.inf], np.nan) ## If there is such a value, replace it with nan\n",
     "\n",
     "threshold = 50 ## Set the percentage of acceptable nan values\n",
     "\n",
     "DF_SET = DF_SET[DF_SET.columns[DF_SET.isnull().mean()*100 <= threshold]] ## Remove columns with nan values greater than the specified threshold\n",
     "DF_SET = DF_SET.loc[DF_SET.isnull().mean(axis=1) <= threshold] ## Delete rows whose nan value is greater than the specified threshold\n",
     "\n",
     "DF_SET = DF_SET.fillna(DF_SET.mean()) "
    ]
   },
   {
    "cell_type": "markdown",
    "id": "83a3cb54",
    "metadata": {},
    "source": [
     "## Handle outlier values"
    ]
   },
   {
    "cell_type": "code",
    "execution_count": 15,
    "id": "dcd085b7",
    "metadata": {
     "tags": []
    },
    "outputs": [],
    "source": [
     "LABEL = DF_SET[['Label']]\n",
     "DF_SET = DF_SET.drop(columns=['Label'])\n",
     "\n",
     "for _ in DF_SET.columns:\n",
     " for __ in ([_]):\n",
     " q75,q25 = np.percentile(DF_SET.loc[:,__],[75,25])\n",
     " intr_qr = q75-q25\n",
     "\n",
     " max = q75+(1.5*intr_qr)\n",
     " min = q25-(1.5*intr_qr)\n",
     "\n",
     " DF_SET.loc[DF_SET[__] < min,__] = np.nan\n",
     " DF_SET.loc[DF_SET[__] > max,__] = np.nan \n",
     " \n",
     "DF_SET = pd.concat([DF_SET, LABEL], axis=1, sort=False)"
    ]
   },
   {
    "cell_type": "markdown",
    "id": "6718a54e",
    "metadata": {},
    "source": [
     "## Eliminate excessive Nan values in rows and columns."
    ]
   },
   {
    "cell_type": "code",
    "execution_count": 16,
    "id": "53f9c65e",
    "metadata": {
     "tags": []
    },
    "outputs": [],
    "source": [
     "threshold = 50 \n",
     "DF_SET = DF_SET[DF_SET.columns[DF_SET.isnull().mean()*100 <= threshold]]\n",
     "DF_SET = DF_SET.loc[DF_SET.isnull().mean(axis=1) <= threshold] "
    ]
   },
   {
    "cell_type": "markdown",
    "id": "5e4cf587",
    "metadata": {},
    "source": [
     "## Replace the remaining Nan values with the Mean values of each column."
    ]
   },
   {
    "cell_type": "code",
    "execution_count": 17,
    "id": "c225e63f",
    "metadata": {
     "tags": []
    },
    "outputs": [],
    "source": [
     "DF_SET = DF_SET.fillna(DF_SET.mean()) "
    ]
   },
   {
    "cell_type": "markdown",
    "id": "847e087e",
    "metadata": {},
    "source": [
     "# Manage the balance of solutions (CLASSES BALANCING)"
    ]
   },
   {
    "cell_type": "markdown",
    "id": "1599da02",
    "metadata": {},
    "source": [
     "### Reduce the number of larger answers to the number of smaller answers (DOWN SAMPLE)"
    ]
   },
   {
    "cell_type": "code",
    "execution_count": 18,
    "id": "abc9e8e1",
    "metadata": {
     "tags": []
    },
    "outputs": [],
    "source": [
     "DF_CLASS_1 = DF_SET.query(\"Label == 1\") ## Create a new DataFrame with only burnt answers\n",
     "DF_CLASS_0 = DF_SET.query(\"Label == 0\").sample(n=len(DF_CLASS_1),random_state=1) ## Create a new DataFrame by pulling the same amount of unburned random answers as the answers. that is burnt\n",
     "\n",
     "DF_SET = pd.concat([DF_CLASS_0, DF_CLASS_1])\n",
     "DF_SET = DF_SET.sample(len(DF_CLASS_0)+len(DF_CLASS_1)) ## Randomly rearrange rows\n",
"DF_SET = DF_SET.reset_index(drop=True) ## Recount Index"
    ]
   },
   {
    "cell_type": "markdown",
    "id": "23a4005c",
    "metadata": {},
    "source": [
     "# Make data to the same standard (DATA SCALING)"
    ]
   },
   {
    "cell_type": "markdown",
    "id": "1fae54dc",
    "metadata": {},
    "source": [
     "## Extract solution from DataFrame"
    ]
   },
   {
    "cell_type": "code",
    "execution_count": 19,
    "id": "c04a258c",
    "metadata": {
     "tags": []
    },
    "outputs": [],
    "source": [
     "LABEL = DF_SET[['Label']]\n",
     "DF_SET = DF_SET.drop(columns=['Label'])"
    ]
   },
   {
    "cell_type": "markdown",
    "id": "bad04853",
    "metadata": {},
    "source": [
     "## Keep data in the same standard with Scaler"
    ]
   },
   {
    "cell_type": "code",
    "execution_count": 20,
    "id": "697f7a59",
    "metadata": {
     "tags": []
    },
    "outputs": [
     {
      "data": {
       "text/html": [
        "<div>\n",
        "<style scoped>\n",
        " .dataframe tbody tr th:only-of-type {\n",
        " vertical-align: middle;\n",
        " }\n",
        "\n",
        " .dataframe tbody tr th {\n",
        " vertical-align: top;\n",
        " }\n",
        "\n",
        " .dataframe thead th {\n",
        " text-align: right;\n",
        " }\n",
        "</style>\n",
        "<table border=\"1\" class=\"dataframe\">\n",
        " <thead>\n",
        " <tr style=\"text-align: right;\">\n",
        " <th></th>\n",
        " <th>0</th>\n",
        " <th>1</th>\n",
        " <th>2</th>\n",
        " <th>3</th>\n",
        " <th>4</th>\n",
        " <th>5</th>\n",
        " <th>6</th>\n",
        " <th>7</th>\n",
        " <th>8</th>\n",
        " <th>9</th>\n",
        " <th>10</th>\n",
        " <th>11</th>\n",
        " <th>12</th>\n",
        " <th>13</th>\n",
        " <th>14</th>\n",
        " <th>15</th>\n",
        " <th>16</th>\n",
        " <th>17</th>\n",
        " <th>18</th>\n",
        " <th>19</th>\n",
        " </tr>\n",
        " </thead>\n",
        " <tbody>\n",
        " <tr>\n",
        " <th>0</th>\n",
        " <td>1.313740</td>\n",
        " <td>0.647769</td>\n",
        " <td>-0.980317</td>\n",
        " <td>-1.457398</td>\n",
        " <td>-0.079209</td>\n",
        " <td>0.154564</td>\n",
        " <td>0.035008</td>\n",
        " <td>-2.119243</td>\n",
        " <td>-2.271591</td>\n",
        " <td>1.009071</td>\n",
        " <td>-0.680376</td>\n",
        " <td>0.508207</td>\n",
        " <td>1.020320</td>\n",
        " <td>0.144667</td>\n",
        " <td>-2.233035</td>\n",
        " <td>2.709800</td>\n",
        " <td>-1.230354</td>\n",
        " <td>0.680376</td>\n",
        " <td>1.572729</td>\n",
        " <td>-1.863235</td>\n",
        " </tr>\n",
        " <tr>\n",
        " <th>1</th>\n",
        " <td>-0.297051</td>\n",
        " <td>-0.448703</td>\n",
        " <td>-0.507858</td>\n",
        " <td>-0.742021</td>\n",
        " <td>-0.720326</td>\n",
        " <td>-0.640976</td>\n",
        " <td>-0.804317</td>\n",
        " <td>-0.713265</td>\n",
        " <td>-0.702715</td>\n",
        " <td>-0.170704</td>\n",
        " <td>-0.286842</td>\n",
        " <td>0.308063</td>\n",
        " <td>-0.168826</td>\n",
        " <td>0.026227</td>\n",
        " <td>-0.086531</td>\n",
        " <td>0.083897</td>\n",
        " <td>-0.864212</td>\n",
        " <td>0.286842</td>\n",
        " <td>-0.116004</td>\n",
        " <td>-0.164556</td>\n",
        " </tr>\n",
        " <tr>\n",
        " <th>2</th>\n",
        " <td>0.955786</td>\n",
        " <td>0.961047</td>\n",
        " <td>1.263864</td>\n",
        " <td>0.807963</td>\n",
        " <td>-0.079209</td>\n",
        " <td>0.009920</td>\n",
        " <td>-0.144847</td>\n",
        " <td>0.485952</td>\n",
        " <td>0.299623</td>\n",
        " <td>-1.029967</td>\n",
        " <td>-1.157665</td>\n",
        " <td>-1.039543</td>\n",
        " <td>-1.031702</td>\n",
        " <td>-0.527151</td>\n",
        " <td>0.508539</td>\n",
        " <td>-0.320678</td>\n",
        " <td>0.584664</td>\n",
        " <td>1.157665</td>\n",
        " <td>-0.971027</td>\n",
        " <td>1.343344</td>\n",
        " </tr>\n",
        " <tr>\n",
        " <th>3</th>\n",
        " <td>-0.118074</td>\n",
        " <td>0.334491</td>\n",
        " <td>0.673290</td>\n",
        " <td>0.688733</td>\n",
        " <td>0.103968</td>\n",
        " <td>0.009920</td>\n",
        " <td>0.274815</td>\n",
        " <td>0.816770</td>\n",
        " <td>0.822582</td>\n",
        " <td>-0.246792</td>\n",
        " <td>-0.163510</td>\n",
       "      <td>-0.374686</td>\n",
       "      <td>-0.242508</td>\n",
       "      <td>-0.430294</td>\n",
       "      <td>0.397155</td>\n",
       "      <td>-0.426400</td>\n",
       "      <td>0.678141</td>\n",
       "      <td>0.163510</td>\n",
       "      <td>-0.408279</td>\n",
       "      <td>0.435839</td>\n",
       "    </tr>\n",
       "    <tr>\n",
       "      <th>4</th>\n",
       "      <td>-0.118074</td>\n",
       "      <td>-0.605342</td>\n",
       "      <td>-0.980317</td>\n",
       "      <td>-1.218939</td>\n",
       "      <td>-1.269855</td>\n",
       "      <td>-1.291872</td>\n",
       "      <td>-1.403836</td>\n",
       "      <td>-1.457606</td>\n",
       "      <td>-1.182094</td>\n",
       "      <td>-0.322636</td>\n",
       "      <td>-0.805041</td>\n",
       "      <td>0.473279</td>\n",
       "      <td>-0.323911</td>\n",
       "      <td>0.307581</td>\n",
       "      <td>-0.354553</td>\n",
       "      <td>0.144966</td>\n",
       "      <td>-1.589377</td>\n",
       "      <td>0.805041</td>\n",
       "      <td>-0.034557</td>\n",
       "      <td>-0.591872</td>\n",
       "    </tr>\n",
       "    <tr>\n",
       "      <th>...</th>\n",
       "      <td>...</td>\n",
       "      <td>...</td>\n",
       "      <td>...</td>\n",
       "      <td>...</td>\n",
       "      <td>...</td>\n",
       "      <td>...</td>\n",
       "      <td>...</td>\n",
       "      <td>...</td>\n",
       "      <td>...</td>\n",
       "      <td>...</td>\n",
       "      <td>...</td>\n",
       "      <td>...</td>\n",
       "      <td>...</td>\n",
       "      <td>...</td>\n",
       "      <td>...</td>\n",
       "      <td>...</td>\n",
       "      <td>...</td>\n",
       "      <td>...</td>\n",
       "      <td>...</td>\n",
       "      <td>...</td>\n",
       "    </tr>\n",
       "    <tr>\n",
       "      <th>38331</th>\n",
       "      <td>0.239879</td>\n",
       "      <td>0.177852</td>\n",
       "      <td>0.673290</td>\n",
       "      <td>0.569504</td>\n",
       "      <td>0.928261</td>\n",
       "      <td>0.877782</td>\n",
       "      <td>0.934286</td>\n",
       "      <td>0.651361</td>\n",
       "      <td>0.256043</td>\n",
       "      <td>0.218770</td>\n",
       "      <td>0.465279</td>\n",
       "      <td>-0.320573</td>\n",
       "      <td>0.227504</td>\n",
       "      <td>0.247428</td>\n",
       "      <td>-0.298998</td>\n",
       "      <td>0.278105</td>\n",
       "      <td>0.885824</td>\n",
       "      <td>-0.465279</td>\n",
       "      <td>0.142559</td>\n",
       "      <td>-0.234678</td>\n",
       "    </tr>\n",
       "    <tr>\n",
       "      <th>38332</th>\n",
       "      <td>0.060903</td>\n",
       "      <td>0.334491</td>\n",
       "      <td>0.673290</td>\n",
       "      <td>0.927192</td>\n",
       "      <td>1.203026</td>\n",
       "      <td>1.528678</td>\n",
       "      <td>0.874334</td>\n",
       "      <td>1.519759</td>\n",
       "      <td>1.345540</td>\n",
       "      <td>0.179779</td>\n",
       "      <td>0.279040</td>\n",
       "      <td>-0.270392</td>\n",
       "      <td>0.188129</td>\n",
       "      <td>-0.484011</td>\n",
       "      <td>0.458520</td>\n",
       "      <td>-0.424573</td>\n",
       "      <td>1.331515</td>\n",
       "      <td>-0.279040</td>\n",
       "      <td>0.062799</td>\n",
       "      <td>-0.118723</td>\n",
       "    </tr>\n",
       "    <tr>\n",
       "      <th>38333</th>\n",
       "      <td>-0.297051</td>\n",
       "      <td>-0.292064</td>\n",
       "      <td>-1.452777</td>\n",
       "      <td>-0.861250</td>\n",
       "      <td>1.386202</td>\n",
       "      <td>1.384034</td>\n",
       "      <td>1.533804</td>\n",
       "      <td>-1.292197</td>\n",
       "      <td>-1.661473</td>\n",
       "      <td>2.265550</td>\n",
       "      <td>1.244959</td>\n",
       "      <td>3.377988</td>\n",
       "      <td>2.289249</td>\n",
       "      <td>2.894282</td>\n",
       "      <td>-2.104881</td>\n",
       "      <td>2.341208</td>\n",
       "      <td>-0.481898</td>\n",
       "      <td>-1.244959</td>\n",
       "      <td>2.755012</td>\n",
       "      <td>-1.574669</td>\n",
       "    </tr>\n",
       "    <tr>\n",
       "      <th>38334</th>\n",
       "      <td>0.955786</td>\n",
       "      <td>0.804408</td>\n",
       "      <td>0.318946</td>\n",
       "      <td>0.092586</td>\n",
       "      <td>-0.353973</td>\n",
       "      <td>-0.351689</td>\n",
       "      <td>-0.324703</td>\n",
       "      <td>-0.671913</td>\n",
       "      <td>-0.615555</td>\n",
       "      <td>-0.466876</td>\n",
       "      <td>-1.189082</td>\n",
       "      <td>-0.660939</td>\n",
       "      <td>-0.465301</td>\n",
       "      <td>0.494166</td>\n",
       "      <td>-0.521208</td>\n",
       "      <td>0.315380</td>\n",
       "      <td>-0.329304</td>\n",
       "      <td>1.189082</td>\n",
       "      <td>-0.253902</td>\n",
       "      <td>-0.218409</td>\n",
       "    </tr>\n",
       "    <tr>\n",
       "      <th>38335</th>\n",
       "      <td>-0.833981</td>\n",
       "      <td>-0.761981</td>\n",
       "      <td>-0.389743</td>\n",
       "      <td>-0.145873</td>\n",
       "      <td>-0.353973</td>\n",
       "      <td>0.082242</td>\n",
       "      <td>-0.204799</td>\n",
       "      <td>0.155133</td>\n",
       "      <td>0.168883</td>\n",
       "      <td>0.258385</td>\n",
       "      <td>0.662346</td>\n",
       "      <td>0.887904</td>\n",
       "      <td>0.264602</td>\n",
       "      <td>-0.281588</td>\n",
       "      <td>0.232388</td>\n",
       "      <td>-0.262904</td>\n",
       "      <td>-0.185934</td>\n",
       "      <td>-0.662346</td>\n",
       "      <td>0.118296</td>\n",
       "      <td>-0.136212</td>\n",
       "    </tr>\n",
       "  </tbody>\n",
       "</table>\n",
       "<p>38336 rows × 20 columns</p>\n",
       "</div>"
      ],
      "text/plain": [
       "             0         1         2         3         4         5         6   \\\n",
       "0      1.313740  0.647769 -0.980317 -1.457398 -0.079209  0.154564  0.035008   \n",
       "1     -0.297051 -0.448703 -0.507858 -0.742021 -0.720326 -0.640976 -0.804317   \n",
       "2      0.955786  0.961047  1.263864  0.807963 -0.079209  0.009920 -0.144847   \n",
       "3     -0.118074  0.334491  0.673290  0.688733  0.103968  0.009920  0.274815   \n",
       "4     -0.118074 -0.605342 -0.980317 -1.218939 -1.269855 -1.291872 -1.403836   \n",
       "...         ...       ...       ...       ...       ...       ...       ...   \n",
       "38331  0.239879  0.177852  0.673290  0.569504  0.928261  0.877782  0.934286   \n",
       "38332  0.060903  0.334491  0.673290  0.927192  1.203026  1.528678  0.874334   \n",
       "38333 -0.297051 -0.292064 -1.452777 -0.861250  1.386202  1.384034  1.533804   \n",
       "38334  0.955786  0.804408  0.318946  0.092586 -0.353973 -0.351689 -0.324703   \n",
       "38335 -0.833981 -0.761981 -0.389743 -0.145873 -0.353973  0.082242 -0.204799   \n",
       "\n",
       "             7         8         9         10        11        12        13  \\\n",
       "0     -2.119243 -2.271591  1.009071 -0.680376  0.508207  1.020320  0.144667   \n",
       "1     -0.713265 -0.702715 -0.170704 -0.286842  0.308063 -0.168826  0.026227   \n",
       "2      0.485952  0.299623 -1.029967 -1.157665 -1.039543 -1.031702 -0.527151   \n",
       "3      0.816770  0.822582 -0.246792 -0.163510 -0.374686 -0.242508 -0.430294   \n",
       "4     -1.457606 -1.182094 -0.322636 -0.805041  0.473279 -0.323911  0.307581   \n",
       "...         ...       ...       ...       ...       ...       ...       ...   \n",
       "38331  0.651361  0.256043  0.218770  0.465279 -0.320573  0.227504  0.247428   \n",
       "38332  1.519759  1.345540  0.179779  0.279040 -0.270392  0.188129 -0.484011   \n",
       "38333 -1.292197 -1.661473  2.265550  1.244959  3.377988  2.289249  2.894282   \n",
       "38334 -0.671913 -0.615555 -0.466876 -1.189082 -0.660939 -0.465301  0.494166   \n",
       "38335  0.155133  0.168883  0.258385  0.662346  0.887904  0.264602 -0.281588   \n",
       "\n",
       "             14        15        16        17        18        19  \n",
       "0     -2.233035  2.709800 -1.230354  0.680376  1.572729 -1.863235  \n",
       "1     -0.086531  0.083897 -0.864212  0.286842 -0.116004 -0.164556  \n",
       "2      0.508539 -0.320678  0.584664  1.157665 -0.971027  1.343344  \n",
       "3      0.397155 -0.426400  0.678141  0.163510 -0.408279  0.435839  \n",
       "4     -0.354553  0.144966 -1.589377  0.805041 -0.034557 -0.591872  \n",
       "...         ...       ...       ...       ...       ...       ...  \n",
       "38331 -0.298998  0.278105  0.885824 -0.465279  0.142559 -0.234678  \n",
       "38332  0.458520 -0.424573  1.331515 -0.279040  0.062799 -0.118723  \n",
       "38333 -2.104881  2.341208 -0.481898 -1.244959  2.755012 -1.574669  \n",
       "38334 -0.521208  0.315380 -0.329304  1.189082 -0.253902 -0.218409  \n",
       "38335  0.232388 -0.262904 -0.185934 -0.662346  0.118296 -0.136212  \n",
       "\n",
       "[38336 rows x 20 columns]"
      ]
     },
     "metadata": {},
     "output_type": "display_data"
    }
   ],
   "source": [
"#DF_SET_SCALED = RobustScaler().fit_transform(DF_SET) ## Handle outliers from data with Robust Scaler\n",
     "\n",
     "DF_SET_SCALED = StandardScaler().fit_transform(DF_SET) ## Scale the database with Standard Scaler\n",
     "\n",
     "#DF_SET_SCALED = MinMaxScaler().fit_transform(DF_SET) ## Scale data with MinMax Scaler\n",
     "\n",
     "NORM_DF_SET = pd.DataFrame(DF_SET_SCALED)\n",
     "display(NORM_DF_SET)"
    ]
   },
   {
    "cell_type": "markdown",
    "id": "3d3a49c7",
    "metadata": {},
    "source": [
     "## Change feature name back"
    ]
   },
   {
    "cell_type": "code",
    "execution_count": 21,
    "id": "af0f623e",
    "metadata": {
     "tags": []
    },
    "outputs": [
     {
      "data": {
       "text/plain": [
        "['Blue',\n",
        " 'Green',\n",
        " 'Red',\n",
        " 'VRE1',\n",
        " 'VRE2',\n",
        " 'VRE3',\n",
        " 'NIR',\n",
        " 'SWIR1',\n",
        " 'SWIR2',\n",
        " 'NDVI',\n",
        " 'GNDVI',\n",
        " 'EVI',\n",
        " 'SAVI',\n",
        " 'NDMI',\n",
        " 'MSI',\n",
        " 'NBRI',\n",
        " 'BSI',\n",
        " 'NDWI',\n",
        " 'ARVI',\n",
        " 'SIPI']"
       ]
      },
      "execution_count": 21,
      "metadata": {},
      "output_type": "execute_result"
     }
    ],
    "source": [
     "Available_Features = list(DF_SET.columns) ## Store feature names from default DataFrame\n",
     "Available_Features"
    ]
   },
   {
    "cell_type": "code",
    "execution_count": 22,
    "id": "5ac882eb",
    "metadata": {
     "tags": []
    },
    "outputs": [],
    "source": [
     "for _ in range(0,len(Available_Features)): ## Loop to change the name according to the list of bands initially defined. (Available_bands)\n",
     " NORM_DF_SET = NORM_DF_SET.rename(columns={_: Available_Features[_]})\n",
     "\n",
     "NORM_DF_SET = pd.concat([NORM_DF_SET, LABEL], \n",
     " axis=1, \n",
     " sort=False \n",
     " )"
    ]
   },
   {
    "cell_type": "markdown",
    "id": "1ed9ce39",
    "metadata": {},
    "source": [
     "# --------------------------------------- MODEL CREATION ------- --------------------------------"
    ]
   },
   {
    "cell_type": "markdown",
    "id": "d837f587",
    "metadata": {},
    "source": [
     "### Extract solution from DataFrame"
    ]
   },
   {
    "cell_type": "code",
    "execution_count": 23,
    "id": "c3635c19",
    "metadata": {
     "tags": []
    },
    "outputs": [],
    "source": [
     "_X = NORM_DF_SET.iloc[:, 0:len(NORM_DF_SET.columns)-1].values ## Training data\n",
     "_Y = NORM_DF_SET.iloc[:, len(NORM_DF_SET.columns)-1].values ## Answer"
    ]
   },
   {
    "cell_type": "markdown",
    "id": "a7899665",
    "metadata": {},
    "source": [
     "# 1. HOLD-OUT METHOD"
    ]
   },
   {
    "cell_type": "markdown",
    "id": "7e04020d",
    "metadata": {},
    "source": [
     "### Divide the data used for training and testing from a single data set (Hold-out Method)"
    ]
   },
   {
    "cell_type": "code",
    "execution_count": 24,
    "id": "ce5674bf",
    "metadata": {
     "tags": []
    },
    "outputs": [
     {
      "name": "stdout",
      "output_type": "stream",
      "text": [
       "X_train Shape: (30668, 20)\n",
       "X_test Shape: (7668, 20)\n",
       "y_train Shape: (30668,)\n",
       "y_test Shape:(7668,)\n",
       "\n"
      ]
     }
    ],
   "source": [
    "X_train, X_test, y_train, y_test = train_test_split(_X, _Y, test_size = 0.2) ## 0.2 means the data used in the test is divided into 20% of the total amount of data\n",
     "\n",
     "print(f'X_train Shape: {X_train.shape}\\nX_test Shape: {X_test.shape}\\ny_train Shape: {y_train.shape}\\ny_test Shape:{y_test.shape}\\n')"
    ]
   },
   {
    "cell_type": "markdown",
    "id": "91baad72",
    "metadata": {},
    "source": [
     "## 1.1 K-Nearest Neighbor"
    ]
   },
   {
    "cell_type": "markdown",
    "id": "c38868f0",
    "metadata": {},
    "source": [
     "### Trained with K-Nearest Neighbor algorithm"
    ]
   },
   {
    "cell_type": "code",
    "execution_count": 25,
    "id": "cdf56943",
    "metadata": {
     "tags": []
    },
    "outputs": [
     {
      "name": "stderr",
      "output_type": "stream",
      "text": [
       " File \"C:\\Users\\surap\\anaconda3\\Lib\\site-packages\\joblib\\externals\\loky\\backend\\context.py\", line 217, in _count_physical_cores\n ",
       " raise ValueError(\n"
      ]
     },
     {
      "name": "stdout",
      "output_type": "stream",
      "text": [
       "Accuracy: 73.0699008868023 %\n",
       "\n",
       " precision recall f1-score support\n",
       "\n",
       " 0 0.75 0.68 0.71 3745\n",
       " 1 0.72 0.78 0.75 3923\n",
       "\n",
       "accuracy 0.73 7668\n",
       " macro avg 0.73 0.73 0.73 7668\n",
       "weighted avg 0.73 0.73 0.73 7668\n",
       "\n",
       "Confusion matrix:\n",
       "[[2534 1211]\n",
       " [ 854 3069]]\n"
      ]
     }
    ],
    "source": [
	"knn = KNeighborsClassifier( ## create KNN classifier \n",
     " n_neighbors=3, ## K value\n",
     " metric = 'euclidean' ## Finding distance with numeric data\n",
     ") \n",
     "\n",
     "clf = knn.fit(X_train, y_train) ## Train the model with KNN classifier\n",
     "result = clf.predict(X_test) ## Apply prediction model to test dataset\n",
     "\n",
     "print(f\"Accuracy: {accuracy_score(y_test, result)*100} %\\n\")\n",
     "print(classification_report(y_test, result))\n",
     "\n",
     "print('Confusion matrix:')\n",
     "mt = metrics.confusion_matrix(y_test, result)\n",
     "print(mt)"
    ]
   },
   {
    "cell_type": "markdown",
    "id": "d1c0852c",
    "metadata": {},
    "source": [
     "### Find the best value of K."
    ]
   },
   {
    "cell_type": "code",
    "execution_count": 26,
    "id": "30912fd8",
    "metadata": {
     "tags": []
    },
    "outputs": [
     {
      "data": {
       "image/png":"[encoded data removed]",
      "text/plain": [
       "<Figure size 640x480 with 1 Axes>"
      ]
     },
     "metadata": {},
     "output_type": "display_data"
    },
    {
     "name": "stdout",
     "output_type": "stream",
     "text": [
      "Optimal K Value is  7  with accuracy score  73.72  %\n",
      ">Best accuracy is  73.72  %\n",
      ">Average accuracy is  72.64  %\n",
      ">Worst accuracy is  69.57  %\n"
     ]
    }
   ],
   "source": [
   "k_range = list(range(1,10)) ## Range for finding K \n",
     "result_scores = [] ## List for storing the accuracy of result prediction\n",
     "\n",
     "for _ in k_range: ## Loop for finding K\n",
     "\n",
     " knn = KNeighborsClassifier(\n",
     " n_neighbors=_,\n",
     " metric = 'euclidean'\n",
     " )\n",
     " clf = knn.fit(X_train, y_train)\n",
     " result = clf.predict(X_test)\n",
     " result_scores.append(accuracy_score(y_test, result)) ## Store the accuracy for each K finding\n",
     " \n",
     "#### plot results for finding K\n",
     "plt.plot(k_range, result_scores, 'y', dashes=[6, 2], label = \"Prediction accuracy\",\n",
     " color='blue',linestyle='dashed',marker='o', markerfacecolor='red', markersize='5')\n",
     "plt.legend(bbox_to_anchor=(1.05, 1), loc=2, borderaxespad=0.)\n",
     "plt.xlabel('Optimal K Value ')\n",
     "plt.ylabel('Accuracy Rate')\n",
     "plt.title('Accuracy Rates for each K')\n",
     "plt.show()\n",
     "####\n",
     "\n",
     "_index = result_scores.index(np.amax(result_scores)) ## Find the best K value\n",
     "optimal_K = _index+1 \n",
     "\n",
     "print('Optimal K Value is ',optimal_K,' with accuracy score ',round(result_scores[_index]*100,2),' %')\n",
     "print('>Best accuracy is ',round(np.amax(result_scores)*100,2),' %')\n",
     "print('>Average accuracy is ',round((sum(result_scores)/len(result_scores))*100,2),' %')\n",
     "print('>Worst accuracy is ',round(np.amin(result_scores)*100,2),' %')"
    ]
   },
   {
    "cell_type": "markdown",
    "id": "34f9e46c",
    "metadata": {},
    "source": [
     "### Retrain the model with the best K value."
    ]
   },
   {
    "cell_type": "code",
    "execution_count": 27,
    "id": "3c6d77bb",
    "metadata": {
     "tags": []
    },
    "outputs": [
     {
      "name": "stdout",
      "output_type": "stream",
      "text": [
       "Accuracy: 73.72196139801773 %\n",
       "\n",
       " precision recall f1-score support\n",
       "\n",
       " 0 0.75 0.69 0.72 3745\n",
       " 1 0.72 0.79 0.75 3923\n",
       "\n",
       "accuracy 0.74 7668\n",
       " macro avg 0.74 0.74 0.74 7668\n",
       "weighted avg 0.74 0.74 0.74 7668\n",
       "\n",
       "Confusion matrix:\n",
       "[[2573 1172]\n",
       " [ 843 3080]]\n"
      ]
     }
    ],
    "source": [
     "knn = KNeighborsClassifier(\n",
     " n_neighbors=optimal_K,\n",
     " metric = 'euclidean'\n",
     ")\n",
     "\n",
     "clf = knn.fit(X_train, y_train)\n",
     "result = clf.predict(X_test)\n",
     "\n",
     "print(f\"Accuracy: {accuracy_score(y_test, result)*100} %\\n\")\n",
     "print(classification_report(y_test, result))\n",
     "\n",
     "print('Confusion matrix:')\n",
     "mt = metrics.confusion_matrix(y_test, result)\n",
     "print(mt)"
    ]
   },
   {
    "cell_type": "markdown",
    "id": "ff9f52be",
    "metadata": {},
    "source": [
     "## 1.2 RandomForest"
    ]
   },
   {
    "cell_type": "markdown",
    "id": "a0270f19",
    "metadata": {},
    "source": [
     "### Train with algorithms RandomForest"
    ]
   },
   {
    "cell_type": "code",
    "execution_count": 28,
    "id": "f25e24b3",
    "metadata": {
     "tags": []
    },
    "outputs": [],
    "source": [
     "rdf_estimator_num = 100 ## Set the number of trees for RandomForest\n",
     "random_state = 42 ## Set the seed so that the random data used for training is the same every time."
    ]
   },
   {
    "cell_type": "code",
    "execution_count": 29,
    "id": "1a0ebab8",
    "metadata": {
     "tags": []
    },
    "outputs": [
     {
      "name": "stdout",
      "output_type": "stream",
      "text": [
       "Accuracy: 72.45696400625978 %\n",
       "\n",
       " precision recall f1-score support\n",
       "\n",
       " 0 0.70 0.76 0.73 3745\n",
       " 1 0.75 0.69 0.72 3923\n",
       "\n",
       "accuracy 0.72 7668\n",
       " macro avg 0.73 0.73 0.72 7668\n",
       "weighted avg 0.73 0.72 0.72 7668\n",
       "\n",
       "Confusion matrix:\n",
       "[[2847 898]\n",
       " [1214 2709]]\n"
      ]
     }
    ],
    "source": [
     "rdf=RandomForestClassifier( ## create RandomForest classifier \n",
     " n_estimators = rdf_estimator_num, ## number of trees for RandomForest\n",
     " max_depth = 10, ## Max-depth value\n",
     " random_state = random_state ## seed ensures the random training data is the same every time\n",
     ")\n",
     "\n",
     "clf = rdf.fit(X_train, y_train) ## Train the model with RandomForest classifier\n",
     "result = clf.predict(X_test) ## Apply prediction model to test dataset\n",
     "\n",
     "print(f\"Accuracy: {accuracy_score(y_test, result)*100} %\\n\")\n",
     "print(classification_report(y_test, result))\n",
     "\n",
     "print('Confusion matrix:')\n",
"mt = metrics.confusion_matrix(y_test, result)\n",
     "print(mt)"
    ]
   },
   {
    "cell_type": "markdown",
    "id": "2fa0d231",
    "metadata": {},
    "source": [
     "### Find the best Max-depth value"
    ]
   },
   {
    "cell_type": "code",
    "execution_count": 30,
    "id": "e9f7a78e",
    "metadata": {
     "tags": []
    },
    "outputs": [
     {
      "data": {
      "image/png": "[encoded data removed]",
      "text/plain": [
       "<Figure size 640x480 with 1 Axes>"
      ]
     },
     "metadata": {},
     "output_type": "display_data"
    },
    {
     "name": "stdout",
     "output_type": "stream",
     "text": [
      "Optimal Max-depth is  9  with accuracy score  72.21  %\n",
      ">Best accuracy is  72.21  %\n",
      ">Average accuracy is  69.59  %\n",
      ">Worst accuracy is  66.09  %\n"
     ]
    }
   ],
   "source": [
"max_depth_range = list(range(2,10)) ## Range for finding values. Max-depth\n",
     "result_scores = [] \n",
     "\n",
     "for _ in max_depth_range:\n",
     "\n",
     " rdf=RandomForestClassifier(\n",
     " n_estimators=rdf_estimator_num,\n",
     " max_depth = _,\n",
     " random_state = random_state\n",
     " )\n",
     " clf = rdf.fit(X_train, y_train)\n",
     " result = clf.predict(X_test)\n",
     " result_scores.append(accuracy_score(y_test, result))\n",
     "\n",
     "plt.plot(max_depth_range, result_scores, 'y', dashes=[6, 2], label = \"Prediction accuracy\",\n",
     " color='blue',linestyle='dashed',marker='o', markerfacecolor='red', markersize='5')\n",
     "plt.legend(bbox_to_anchor=(1.05, 1), loc=2, borderaxespad=0.)\n",
     "plt.xlabel('Optimal Max-depth')\n",
     "plt.ylabel('Accuracy Rate')\n",
     "plt.title('Accuracy Rates for each Max-depth')\n",
     "plt.show()\n",
     "\n",
     "_index = result_scores.index(np.amax(result_scores))\n",
     "optimal_max_depth = _index+2\n",
     "\n",
     "print('Optimal Max-depth is ',optimal_max_depth,' with accuracy score ',round(result_scores[_index]*100,2),' %')\n",
     "print('>Best accuracy is ',round(np.amax(result_scores)*100,2),' %')\n",
     "print('>Average accuracy is ',round((sum(result_scores)/len(result_scores))*100,2),' %')\n",
     "print('>Worst accuracy is ',round(np.amin(result_scores)*100,2),' %')"
    ]
   },
   {
    "cell_type": "markdown",
    "id": "57e2c4fe",
    "metadata": {},
    "source": [
     "### Retrain the model with the best Max-depth value."
    ]
   },
   {
    "cell_type": "code",
    "execution_count": 31,
    "id": "452d1e75",
    "metadata": {
     "tags": []
    },
    "outputs": [
     {
      "name": "stdout",
      "output_type": "stream",
      "text": [
       "Accuracy: 72.20918101199791 %\n",
       "\n",
       " precision recall f1-score support\n",
       "\n",
       " 0 0.70 0.77 0.73 3745\n",
       " 1 0.75 0.68 0.71 3923\n",
       "\n",
       "accuracy 0.72 7668\n",
       " macro avg 0.72 0.72 0.72 7668\n",
       "weighted avg 0.72 0.72 0.72 7668\n",
       "\n",
       "Confusion matrix:\n",
       "[[2871 874]\n",
       " [1257 2666]]\n"
      ]
     }
    ],
    "source": [
     "rdf=RandomForestClassifier(\n",
     " n_estimators = rdf_estimator_num,\n",
     " max_depth = optimal_max_depth,\n",
     " random_state = random_state\n",
     ")\n",
     "\n",
     "clf = rdf.fit(X_train, y_train)\n",
     "result = clf.predict(X_test)\n",
     "\n",
     "print(f\"Accuracy: {accuracy_score(y_test, result)*100} %\\n\")\n",
     "print(classification_report(y_test, result))\n",
     "\n",
     "print('Confusion matrix:')\n",
     "mt = metrics.confusion_matrix(y_test, result)\n",
     "print(mt)"
    ]
   },
   {
    "cell_type": "markdown",
    "id": "3f771dbb",
    "metadata": {},
    "source": [
     "## 1.3 Support Vector Machine"
    ]
   },
   {
    "cell_type": "markdown",
    "id": "236ec401",
    "metadata": {},
    "source": [
     "### Practice with Support Vector Machine algorithm"
    ]
   },
   {
    "cell_type": "code",
    "execution_count": 32,
    "id": "fc86e9ff",
    "metadata": {
     "tags": []
    },
    "outputs": [
     {
      "name": "stdout",
      "output_type": "stream",
      "text": [
       "Accuracy: 72.91340636411059 %\n",
       "\n",
       " precision recall f1-score support\n",
       "\n",
       " 0 0.72 0.72 0.72 3745\n",
       " 1 0.73 0.74 0.74 3923\n",
       "\n",
       "accuracy 0.73 7668\n",
       " macro avg 0.73 0.73 0.73 7668\n",
       "weighted avg 0.73 0.73 0.73 7668\n",
       "\n",
       "Confusion matrix:\n",
       "[[2693 1052]\n",
       " [1025 2898]]\n"
      ]
     }
    ],
    "source": [
     "svm=SVC( ## Create Support Vector Machine classifier \n",
     " C=10, ## Regularization parameters\n",
     ") \n",
     "\n",
     "clf = svm.fit(X_train, y_train) ## Train the model with Support Vector Machine classifier\n",
     "result = clf.predict(X_test) ## Apply prediction model to test dataset\n",
     "\n",
     "print(f\"Accuracy: {accuracy_score(y_test, result)*100} %\\n\")\n",
     "print(classification_report(y_test, result))\n",
     "\n",
     "print('Confusion matrix:')\n",
     "mt = metrics.confusion_matrix(y_test, result)\n",
     "print(mt)"
    ]
   },
   {
    "cell_type": "markdown",
    "id": "887a36a6",
    "metadata": {},
    "source": [
     "### Find the best C value."
    ]
   },
   {
    "cell_type": "code",
    "execution_count": 33,
    "id": "49da7b19",
    "metadata": {
     "tags": []
    },
    "outputs": [
     {
      "data": {
     "image/png": "[encoded data removed]",
      "text/plain": [
       "<Figure size 640x480 with 1 Axes>"
      ]
     },
     "metadata": {},
     "output_type": "display_data"
    },
    {
     "name": "stdout",
     "output_type": "stream",
     "text": [
      "Optimal C value is  8  with accuracy score  72.91  %\n",
      ">Best accuracy is  72.91  %\n",
      ">Average accuracy is  72.38  %\n",
      ">Worst accuracy is  71.4  %\n"
     ]
    }
   ],
   "source": [
"regularization_range = list(range(1,10)) ## Range for solving C\n",
     "result_scores = [] \n",
     "\n",
     "for _ in regularization_range:\n",
     "\n",
     " svm=SVC(\n",
     " C=_,\n",
     " )\n",
     " clf = svm.fit(X_train, y_train)\n",
     " result = clf.predict(X_test)\n",
     " result_scores.append(accuracy_score(y_test, result))\n",
     "\n",
     "plt.plot(regularization_range, result_scores, 'y', dashes=[6, 2], label = \"Prediction accuracy\",\n",
     " color='blue',linestyle='dashed',marker='o', markerfacecolor='red', markersize='5')\n",
     "plt.legend(bbox_to_anchor=(1.05, 1), loc=2, borderaxespad=0.)\n",
     "plt.xlabel('Optimal C value')\n",
     "plt.ylabel('Accuracy Rate')\n",
     "plt.title('Accuracy Rates for each C value')\n",
     "plt.show()\n",
     "\n",
     "_index = result_scores.index(np.amax(result_scores))\n",
     "optimal_c = _index+1\n",
     "\n",
     "print('Optimal C value is ',optimal_c,' with accuracy score ',round(result_scores[_index]*100,2),' %')\n",
     "print('>Best accuracy is ',round(np.amax(result_scores)*100,2),' %')\n",
     "print('>Average accuracy is ',round((sum(result_scores)/len(result_scores))*100,2),' %')\n",
     "print('>Worst accuracy is ',round(np.amin(result_scores)*100,2),' %')"
    ]
   },
   {
    "cell_type": "markdown",
    "id": "e2630697",
    "metadata": {},
    "source": [
     "### Retrain the model with the best C value."
    ]
   },
   {
    "cell_type": "code",
    "execution_count": 34,
    "id": "4b594691",
    "metadata": {
     "tags": []
    },
    "outputs": [
     {
      "name": "stdout",
      "output_type": "stream",
      "text": [
       "Accuracy: 72.91340636411059 %\n",
       "\n",
       " precision recall f1-score support\n",
       "\n",
       " 0 0.72 0.72 0.72 3745\n",
       " 1 0.74 0.74 0.74 3923\n",
       "\n",
       "accuracy 0.73 7668\n",
       " macro avg 0.73 0.73 0.73 7668\n",
       "weighted avg 0.73 0.73 0.73 7668\n",
       "\n",
       "Confusion matrix:\n",
       "[[2705 1040]\n",
       " [1037 2886]]\n"
      ]
     }
    ],
    "source": [
     "svm=SVC( ## Create Support Vector Machine classifier \n",
     " C=optimal_c,\n",
     ") \n",
     "\n",
     "clf = svm.fit(X_train, y_train) ## Train the model with Support Vector Machine classifier\n",
     "result = clf.predict(X_test) ## Apply prediction model to test dataset\n",
     "\n",
     "print(f\"Accuracy: {accuracy_score(y_test, result)*100} %\\n\")\n",
     "print(classification_report(y_test, result))\n",
     "\n",
     "print('Confusion matrix:')\n",
     "mt = metrics.confusion_matrix(y_test, result)\n",
     "print(mt)"
    ]
   },
   {
    "cell_type": "markdown",
    "id": "24f001ba",
    "metadata": {},
    "source": [
     "## 1.4 Light Gradient Boosted Machine"
    ]
   },
   {
    "cell_type": "markdown",
    "id": "bfe630b7",
    "metadata": {},
    "source": [
     "### Train with Light GBM algorithm"
    ]
   },
   {
    "cell_type": "code",
    "execution_count": 33,
    "id": "cc8ba82a",
    "metadata": {},
    "outputs": [],
    "source": [
     "lgbm_learning_rate = 0.05\n",
     "lgbm_epocs = 100 ## Number of learning iterations\n",
     "num_class = len(set(_Y)) ## Number of solution types\n",
     "\n",
     "params={}\n",
     "params['verbose'] = -1 ## Turn off display\n",
     "params['learning_rate'] = lgbm_learning_rate\n",
     "params['boosting_type'] = 'gbdt' ## GradientBoostingDecisionTree\n",
     "params['objective'] = 'multiclass' ## Multi-class target feature\n",
     "params['metric'] = 'multi_logloss' ## metric for multi-class\n",
     "params['max_depth'] = 100\n",
     "params['random_state'] = random_state\n",
     "params['num_class'] = num_class "
    ]
   },
   {
    "cell_type": "code",
    "execution_count": 34,
    "id": "26d2a60a",
    "metadata": {},
    "outputs": [
     {
      "name": "stdout",
      "output_type": "stream",
      "text": [
       "Accuracy: 84.66353677621284 %\n",
       "\n",
       " precision recall f1-score support\n",
       "\n",
       " 0 0.89 0.79 0.84 1928\n",
       " 1 0.81 0.90 0.85 1906\n",
       "\n",
       "accuracy 0.85 3834\n",
       " macro avg 0.85 0.85 0.85 3834\n",
       "weighted avg 0.85 0.85 0.85 3834\n",
       "\n",
       "Confusion matrix:\n",
       "[[1529 399]\n",
       " [ 189 1717]]\n"
      ]
     }
    ],
    "source": [
     "lgbm_train_set = lgb.Dataset(X_train, label=y_train) ## Create a Data set for training the LightGBM model\n",
     "\n",
     "clf = lgb.train(\n",
     " params,\n",
     " lgbm_train_set,\n",
     " lgbm_epocs\n",
     ")\n",
     "\n",
     "result = clf.predict(X_test)\n",
     "result = np.argmax(result, axis=1) ## Round values to integers\n",
"\n",
     "print(f\"Accuracy: {accuracy_score(y_test, result)*100} %\\n\")\n",
     "print(classification_report(y_test, result))\n",
     "\n",
     "print('Confusion matrix:')\n",
     "mt = metrics.confusion_matrix(y_test, result)\n",
     "print(mt)"
    ]
   },
   {
    "cell_type": "markdown",
    "id": "d2a29a25",
    "metadata": {},
    "source": [
     "### Find the best Max-depth value"
    ]
   },
   {
    "cell_type": "code",
    "execution_count": 35,
    "id": "5de8ee42",
    "metadata": {},
    "outputs": [
     {
      "data": {
      "image/png": "[encoded data removed]",
      "text/plain": [
       "<Figure size 432x288 with 1 Axes>"
      ]
     },
     "metadata": {
      "needs_background": "light"
     },
     "output_type": "display_data"
    },
    {
     "name": "stdout",
     "output_type": "stream",
     "text": [
      "Optimal Max-depth is  7  with accuracy score  84.87  %\n",
      ">Best accuracy is  84.87  %\n",
      ">Average accuracy is  84.04  %\n",
      ">Worst accuracy is  82.58  %\n"
     ]
    }
   ],
   "source": [
"max_depth_range = list(range(2,10)) ## Range for finding values. Max-depth\n",
     "result_scores = [] \n",
     "\n",
     "for _ in max_depth_range:\n",
     " \n",
     " params['max_depth'] = _\n",
     " \n",
     " clf = lgb.train(\n",
     " params,\n",
     " lgbm_train_set,\n",
     " lgbm_epocs\n",
     " )\n",
     " \n",
     " result = clf.predict(X_test)\n",
     " result = np.argmax(result, axis=1)\n",
     " result_scores.append(accuracy_score(y_test, result))\n",
     "\n",
     "plt.plot(max_depth_range, result_scores, 'y', dashes=[6, 2], label = \"Prediction accuracy\",\n",
     " color='blue',linestyle='dashed',marker='o', markerfacecolor='red', markersize='5')\n",
     "plt.legend(bbox_to_anchor=(1.05, 1), loc=2, borderaxespad=0.)\n",
     "plt.xlabel('Optimal Max-depth')\n",
     "plt.ylabel('Accuracy Rate')\n",
     "plt.title('Accuracy Rates for each Max-depth')\n",
     "plt.show()\n",
     "\n",
     "_index = result_scores.index(np.amax(result_scores))\n",
     "optimal_max_depth = _index+2\n",
     "\n",
     "print('Optimal Max-depth is ',optimal_max_depth,' with accuracy score ',round(result_scores[_index]*100,2),' %')\n",
     "print('>Best accuracy is ',round(np.amax(result_scores)*100,2),' %')\n",
     "print('>Average accuracy is ',round((sum(result_scores)/len(result_scores))*100,2),' %')\n",
     "print('>Worst accuracy is ',round(np.amin(result_scores)*100,2),' %')"
    ]
   },
   {
    "cell_type": "code",
    "execution_count": 36,
    "id": "7d798975",
    "metadata": {},
    "outputs": [
     {
      "name": "stdout",
      "output_type": "stream",
      "text": [
       "Accuracy: 84.87219613980177 %\n",
       "\n",
       " precision recall f1-score support\n",
       "\n",
       " 0 0.89 0.80 0.84 1928\n",
       " 1 0.81 0.90 0.86 1906\n",
       "\n",
       "accuracy 0.85 3834\n",
       " macro avg 0.85 0.85 0.85 3834\n",
       "weighted avg 0.85 0.85 0.85 3834\n",
       "\n",
       "Confusion matrix:\n",
       "[[1533 395]\n",
       " [ 185 1721]]\n"
      ]
     }
    ],
    "source": [
     "params['max_depth'] = optimal_max_depth\n",
     "\n",
     "lgbm_train_set = lgb.Dataset(X_train, label=y_train) \n",
     "\n",
     "clf = lgb.train(\n",
     " params,\n",
     " lgbm_train_set,\n",
     " lgbm_epocs\n",
     ")\n",
     "\n",
     "result = clf.predict(X_test)\n",
     "result = np.argmax(result, axis=1)\n",
     "\n",
     "print(f\"Accuracy: {accuracy_score(y_test, result)*100} %\\n\")\n",
     "print(classification_report(y_test, result))\n",
     "\n",
     "print('Confusion matrix:')\n",
     "mt = metrics.confusion_matrix(y_test, result)\n",
     "print(mt)"
    ]
   },
   {
    "cell_type": "markdown",
    "id": "a14b0512",
    "metadata": {},
    "source": [
     "# 2. CROSS-VALIDATION METHOD"
    ]
   },
   {
    "cell_type": "markdown",
    "id": "4a331493",
    "metadata": {},
    "source": [
     "#### Set number of folds for cross validation"
    ]
   },
   {
    "cell_type": "code",
    "execution_count": 37,
    "id": "5346ef9a",
    "metadata": {},
    "outputs": [],
    "source": [
     "cv = 10 ## Set k-fold for data partitioning."
    ]
   },
   {
    "cell_type": "markdown",
    "id": "61ab892d",
    "metadata": {},
    "source": [
     "## 2.1 K-Nearest Neighbor"
    ]
   },
   {
    "cell_type": "code",
    "execution_count": 38,
    "id": "6738e18a",
    "metadata": {},
    "outputs": [
     {
      "name": "stdout",
      "output_type": "stream",
      "text": [
       "Cross validation score: 84.07 %\n",
       "Standard deviation: 0.008333538\n",
       "Accuracy in fold 1 : 82.79 %\n",
       "Accuracy in fold 2 : 84.72 %\n",
       "Accuracy in fold 3 : 83.62 %\n",
       "Accuracy in fold 4 : 84.72 %\n",
       "\u001b[91m Accuracy in fold 5 : 85.39 %\u001b[90m\n",
       "Accuracy in fold 6 : 83.26 %\n",
       "Accuracy in fold 7 : 83.1 %\n",
       "Accuracy in fold 8 : 84.3 %\n",
       "Accuracy in fold 9 : 84.97 %\n",
       "Accuracy in fold 10 : 83.87 %\n"
      ]
     }
    ],
    "source": [
     "scores_cv = []\n",
     "\n",
     "knn = KNeighborsClassifier( \n",
     " n_neighbors=3,\n",
     " metric = 'euclidean'\n",
     ")\n",
     "\n",
     "scores_cv = cross_val_score( ## store the results of each fold \n",
     " knn,\n",
     " _X,\n",
     " _Y,\n",
     " cv = cv\n",
     ")\n",
     "\n",
     "print(f\"Cross validation score: {round(scores_cv.mean()*100,2)} %\")\n",
     "print(f\"Standard deviation: {round(scores_cv.std(),9)}\")\n",
     "\n",
     "indx = 1\n",
     "\n",
     "for _ in scores_cv:\n",
     " if _ == np.amax(scores_cv):\n",
     " print(f'\\033[91m Accuracy in fold {indx} : {round(_*100,2)} %\\033[90m')\n",
     " else:\n",
     " print(f'Accuracy in fold {indx} : {round(_*100,2)} %')\n",
     "indx+=1"
    ]
   },
   {
    "cell_type": "markdown",
    "id": "fa733af1",
    "metadata": {},
"source": [
     "### Find the best value of K using the results of Cross-validation"
    ]
   },
   {
    "cell_type": "code",
    "execution_count": 39,
    "id": "080f7abf",
    "metadata": {},
    "outputs": [
     {
      "data": {
     "image/png": "[encoded data removed]",
      "text/plain": [
       "<Figure size 432x288 with 1 Axes>"
      ]
     },
     "metadata": {
      "needs_background": "light"
     },
     "output_type": "display_data"
    },
    {
     "name": "stdout",
     "output_type": "stream",
     "text": [
      "Optimal K Value is  9  with CV's score  85.13  %\n",
      ">Standard deviation  0.007445173\n",
      ">Best CV's score  85.13  %\n",
      ">Average CV's score  83.71  %\n",
      ">Worst CV's score  79.79  %\n"
     ]
    }
   ],
   "source": [
    "k_range = list(range(1,10))\n",
    "scores_cv = []\n",
    "std_cv = []\n",
    "\n",
    "for _ in k_range:\n",
    "\n",
    "    knn = KNeighborsClassifier(\n",
    "        n_neighbors=_,\n",
    "        metric = 'euclidean'\n",
    "    )\n",
    "\n",
    "    scores = cross_val_score(\n",
    "        knn,\n",
    "        _X,\n",
    "        _Y,\n",
    "        cv=cv\n",
    "    )\n",
    "\n",
    "    scores_cv.append(scores.mean())\n",
    "    std_cv.append(scores.std())\n",
    "\n",
    "plt.plot(k_range, scores_cv, 'y', dashes=[6, 2], label = \"Mean of CV accuracy\",\n",
    "         color='blue',linestyle='dashed',marker='o', markerfacecolor='red', markersize='5')\n",
    "\n",
    "plt.legend(bbox_to_anchor=(1.05, 1), loc=2, borderaxespad=0.)\n",
    "plt.xlabel('Optimal K Value ')\n",
    "plt.ylabel('Accuracy Rate')\n",
    "plt.title('Accuracy Rates for each K (CV-Train-Validation)')\n",
    "plt.show()\n",
    "\n",
    "_index = scores_cv.index(np.amax(scores_cv))\n",
    "\n",
    "optimal_K = _index+1\n",
    "\n",
    "print('Optimal K Value is ',optimal_K,' with CV\\'s score ',round(scores_cv[_index]*100,2),' %')\n",
    "print('>Standard deviation ',round(std_cv[_index],9))\n",
    "print('>Best CV\\'s score ',round(np.amax(scores_cv)*100,2),' %')\n",
    "print('>Average CV\\'s score ',round((sum(scores_cv)/len(scores_cv))*100,2),' %')\n",
    "print('>Worst CV\\'s score ',round(np.amin(scores_cv)*100,2),' %')"
   ]
  },
  {
   "cell_type": "markdown",
   "id": "fb1d382d",
   "metadata": {},
   "source": [
    "### ฝึกฝนโมเดลอีกครั้งด้วยค่า K ที่ดีที่สุด"
   ]
  },
  {
   "cell_type": "code",
   "execution_count": 40,
   "id": "f0346ea1",
   "metadata": {},
   "outputs": [
    {
     "name": "stdout",
     "output_type": "stream",
     "text": [
      "Cross validation score: 85.13 %\n",
      "Standard deviation: 0.007445173\n",
      "Accuracy in fold 1 : 84.09 %\n",
      "Accuracy in fold 2 : 86.02 %\n",
      "Accuracy in fold 3 : 85.34 %\n",
      "Accuracy in fold 4 : 85.19 %\n",
      "Accuracy in fold 5 : 84.87 %\n",
      "Accuracy in fold 6 : 84.66 %\n",
      "Accuracy in fold 7 : 83.99 %\n",
      "Accuracy in fold 8 : 85.34 %\n",
      "\u001b[91m Accuracy in fold 9 : 86.53 %\u001b[90m\n",
      "Accuracy in fold 10 : 85.23 %\n"
     ]
    }
   ],
   "source": [
    "scores_cv = []\n",
    "\n",
    "knn = KNeighborsClassifier( \n",
    "    n_neighbors=optimal_K,\n",
    "    metric = 'euclidean'\n",
    ") \n",
    "\n",
    "scores_cv = cross_val_score(\n",
    "    knn,\n",
    "    _X,\n",
    "    _Y,\n",
    "    cv = cv\n",
    ")\n",
    "\n",
    "print(f\"Cross validation score: {round(scores_cv.mean()*100,2)} %\")\n",
    "print(f\"Standard deviation: {round(scores_cv.std(),9)}\")\n",
    "\n",
    "indx = 1\n",
    "\n",
    "for _ in scores_cv:\n",
    "    if _ == np.amax(scores_cv):\n",
    "        print(f'\\033[91m Accuracy in fold {indx} : {round(_*100,2)} %\\033[90m')\n",
    "    else:\n",
    "        print(f'Accuracy in fold {indx} : {round(_*100,2)} %')\n",
    "    indx+=1"
   ]
  },
  {
   "cell_type": "markdown",
   "id": "c28870ec",
   "metadata": {},
   "source": [
    "## 2.2 RandomForest"
   ]
  },
  {
   "cell_type": "code",
   "execution_count": 41,
   "id": "f804f80e",
   "metadata": {},
   "outputs": [],
   "source": [
    "rdf_estimator_num = 100\n",
    "random_state = 42"
   ]
  },
  {
   "cell_type": "code",
   "execution_count": 42,
   "id": "c0ef8ac6",
   "metadata": {},
   "outputs": [
    {
     "name": "stdout",
     "output_type": "stream",
     "text": [
      "Cross validation score: 85.03 %\n",
      "Standard deviation: 0.008531092\n",
      "Accuracy in fold 1 : 82.58 %\n",
      "Accuracy in fold 2 : 85.45 %\n",
      "Accuracy in fold 3 : 85.45 %\n",
      "Accuracy in fold 4 : 85.39 %\n",
      "Accuracy in fold 5 : 85.29 %\n",
      "Accuracy in fold 6 : 85.19 %\n",
      "Accuracy in fold 7 : 84.72 %\n",
      "Accuracy in fold 8 : 85.55 %\n",
      "\u001b[91m Accuracy in fold 9 : 85.59 %\u001b[90m\n",
      "Accuracy in fold 10 : 85.07 %\n"
     ]
    }
   ],
   "source": [
    "scores_cv = []\n",
    "\n",
    "rdf=RandomForestClassifier(\n",
    "    n_estimators = rdf_estimator_num, \n",
    "    max_depth = 10, \n",
    "    random_state = random_state \n",
    ")\n",
    "\n",
    "scores_cv = cross_val_score(\n",
    "    rdf,\n",
    "    _X,\n",
    "    _Y,\n",
    "    cv = cv\n",
    ")\n",
    "\n",
    "print(f\"Cross validation score: {round(scores_cv.mean()*100,2)} %\")\n",
    "print(f\"Standard deviation: {round(scores_cv.std(),9)}\")\n",
    "\n",
    "indx = 1\n",
    "for _ in scores_cv:\n",
    "    if _ == np.amax(scores_cv):\n",
    "        print(f'\\033[91m Accuracy in fold {indx} : {round(_*100,2)} %\\033[90m')\n",
    "    else:\n",
    "        print(f'Accuracy in fold {indx} : {round(_*100,2)} %')\n",
    "    indx+=1"
   ]
  },
  {
   "cell_type": "markdown",
   "id": "789ae69c",
   "metadata": {},
   "source": [
"### Find the best Max-depth value using the results of Cross-validation"
    ]
   },
   {
    "cell_type": "code",
    "execution_count": 43,
    "id": "cafd6a9e",
    "metadata": {},
    "outputs": [
     {
      "data": {
      "image/png": "[encoded data removed]",
      "text/plain": [
       "<Figure size 432x288 with 1 Axes>"
      ]
     },
     "metadata": {
      "needs_background": "light"
     },
     "output_type": "display_data"
    },
    {
     "name": "stdout",
     "output_type": "stream",
     "text": [
      "Optimal Max-depth is  9  with CV's score  84.8  %\n",
      ">Standard deviation  0.007907132\n",
      ">Best CV's score  84.8  %\n",
      ">Average CV's score  83.44  %\n",
      ">Worst CV's score  82.02  %\n"
     ]
    }
   ],
   "source": [
    "max_depth_range = list(range(2,10)) \n",
    "scores_cv = [] \n",
    "std_cv = []\n",
    "\n",
    "for _ in max_depth_range:\n",
    "    \n",
    "    rdf=RandomForestClassifier(\n",
    "        n_estimators=rdf_estimator_num,\n",
    "        max_depth = _,\n",
    "        random_state = random_state\n",
    "    )\n",
    "\n",
    "    scores = cross_val_score(\n",
    "        rdf,\n",
    "        _X,\n",
    "        _Y,\n",
    "        cv=cv\n",
    "    )\n",
    "\n",
    "    scores_cv.append(scores.mean())\n",
    "    std_cv.append(scores.std())\n",
    "\n",
    "plt.plot(max_depth_range, scores_cv, 'y', dashes=[6, 2], label = \"Prediction accuracy\",\n",
    "         color='blue',linestyle='dashed',marker='o', markerfacecolor='red', markersize='5')\n",
    "plt.legend(bbox_to_anchor=(1.05, 1), loc=2, borderaxespad=0.)\n",
    "plt.xlabel('Optimal Max-depth')\n",
    "plt.ylabel('Accuracy Rate')\n",
    "plt.title('Accuracy Rates for each Max-depth')\n",
    "plt.show()\n",
    "\n",
    "_index = scores_cv.index(np.amax(scores_cv))\n",
    "\n",
    "optimal_max_depth = _index+2\n",
    "\n",
    "print('Optimal Max-depth is ',optimal_max_depth,' with CV\\'s score ',round(scores_cv[_index]*100,2),' %')\n",
    "print('>Standard deviation ',round(std_cv[_index],9))\n",
    "print('>Best CV\\'s score ',round(np.amax(scores_cv)*100,2),' %')\n",
    "print('>Average CV\\'s score ',round((sum(scores_cv)/len(scores_cv))*100,2),' %')\n",
    "print('>Worst CV\\'s score ',round(np.amin(scores_cv)*100,2),' %')"
   ]
  },
  {
   "cell_type": "markdown",
   "id": "b3fac598",
   "metadata": {},
   "source": [
    "### ฝึกฝนโมเดลอีกครั้งด้วยค่า Max-depth ที่ดีที่สุด"
   ]
  },
  {
   "cell_type": "code",
   "execution_count": 44,
   "id": "5b9a5389",
   "metadata": {},
   "outputs": [
    {
     "name": "stdout",
     "output_type": "stream",
     "text": [
      "Cross validation score: 84.8 %\n",
      "Standard deviation: 0.007907132\n",
      "Accuracy in fold 1 : 82.73 %\n",
      "Accuracy in fold 2 : 84.72 %\n",
      "Accuracy in fold 3 : 84.66 %\n",
      "Accuracy in fold 4 : 85.24 %\n",
      "Accuracy in fold 5 : 85.03 %\n",
      "Accuracy in fold 6 : 85.03 %\n",
      "Accuracy in fold 7 : 84.45 %\n",
      "Accuracy in fold 8 : 85.65 %\n",
      "\u001b[91m Accuracy in fold 9 : 85.7 %\u001b[90m\n",
      "Accuracy in fold 10 : 84.76 %\n"
     ]
    }
   ],
   "source": [
    "scores_cv = []\n",
    "\n",
    "rdf=RandomForestClassifier(\n",
    "    n_estimators = rdf_estimator_num, \n",
    "    max_depth = optimal_max_depth, \n",
    "    random_state = random_state \n",
    ")\n",
    "\n",
    "scores_cv = cross_val_score(\n",
    "    rdf,\n",
    "    _X,\n",
    "    _Y,\n",
    "    cv = cv\n",
    ")\n",
    "\n",
    "print(f\"Cross validation score: {round(scores_cv.mean()*100,2)} %\")\n",
    "print(f\"Standard deviation: {round(scores_cv.std(),9)}\")\n",
    "\n",
    "indx = 1\n",
    "for _ in scores_cv:\n",
    "    if _ == np.amax(scores_cv):\n",
    "        print(f'\\033[91m Accuracy in fold {indx} : {round(_*100,2)} %\\033[90m')\n",
    "    else:\n",
    "        print(f'Accuracy in fold {indx} : {round(_*100,2)} %')\n",
    "    indx+=1"
   ]
  },
  {
   "cell_type": "markdown",
   "id": "7485cdb2",
   "metadata": {},
   "source": [
    "## 2.3 Support Vector Machine"
   ]
  },
  {
   "cell_type": "code",
   "execution_count": 45,
   "id": "83493107",
   "metadata": {},
   "outputs": [
    {
     "name": "stdout",
     "output_type": "stream",
     "text": [
      "Cross validation score: 85.18 %\n",
      "Standard deviation: 0.007866494\n",
      "Accuracy in fold 1 : 83.46 %\n",
      "Accuracy in fold 2 : 85.86 %\n",
      "Accuracy in fold 3 : 85.45 %\n",
      "Accuracy in fold 4 : 85.71 %\n",
      "Accuracy in fold 5 : 84.82 %\n",
      "Accuracy in fold 6 : 85.19 %\n",
      "Accuracy in fold 7 : 84.4 %\n",
      "Accuracy in fold 8 : 85.81 %\n",
      "\u001b[91m Accuracy in fold 9 : 86.27 %\u001b[90m\n",
      "Accuracy in fold 10 : 84.86 %\n"
     ]
    }
   ],
   "source": [
    "scores_cv = []\n",
    "\n",
    "svm=SVC(\n",
    "    C=10,\n",
    ") \n",
    "\n",
    "scores_cv = cross_val_score(\n",
    "    svm,\n",
    "    _X,\n",
    "    _Y,\n",
    "    cv = cv\n",
    ")\n",
    "\n",
    "print(f\"Cross validation score: {round(scores_cv.mean()*100,2)} %\")\n",
    "print(f\"Standard deviation: {round(scores_cv.std(),9)}\")\n",
    "\n",
    "indx = 1\n",
    "for _ in scores_cv:\n",
    "    if _ == np.amax(scores_cv):\n",
    "        print(f'\\033[91m Accuracy in fold {indx} : {round(_*100,2)} %\\033[90m')\n",
    "    else:\n",
    "        print(f'Accuracy in fold {indx} : {round(_*100,2)} %')\n",
    "    indx+=1"
   ]
  },
  {
   "cell_type": "markdown",
   "id": "c1b13333",
   "metadata": {},
   "source": [
"### Find the best value of C using the results of Cross-validation"
    ]
   },
   {
    "cell_type": "code",
    "execution_count": 46,
    "id": "e7bda33c",
    "metadata": {},
    "outputs": [
     {
      "data": {
     "image/png": "[encoded data removed]",
      "text/plain": [
       "<Figure size 432x288 with 1 Axes>"
      ]
     },
     "metadata": {
      "needs_background": "light"
     },
     "output_type": "display_data"
    },
    {
     "name": "stdout",
     "output_type": "stream",
     "text": [
      "Optimal C value is  9  with CV's score  85.16  %\n",
      ">Standard deviation  0.008004981\n",
      ">Best CV's score  85.16  %\n",
      ">Average CV's score  84.95  %\n",
      ">Worst CV's score  84.6  %\n"
     ]
    }
   ],
   "source": [
    "regularization_range = list(range(1,10))\n",
    "scores_cv = []\n",
    "std_cv = []\n",
    "\n",
    "for _ in regularization_range:\n",
    "    \n",
    "    svm=SVC(\n",
    "        C=_,\n",
    "    )\n",
    "\n",
    "    scores = cross_val_score(\n",
    "        svm,\n",
    "        _X,\n",
    "        _Y,\n",
    "        cv=cv\n",
    "    )\n",
    "\n",
    "    scores_cv.append(scores.mean())\n",
    "    std_cv.append(scores.std())\n",
    "\n",
    "plt.plot(regularization_range, scores_cv, 'y', dashes=[6, 2], label = \"Prediction accuracy\",\n",
    "         color='blue',linestyle='dashed',marker='o', markerfacecolor='red', markersize='5')\n",
    "plt.legend(bbox_to_anchor=(1.05, 1), loc=2, borderaxespad=0.)\n",
    "plt.xlabel('Optimal C value')\n",
    "plt.ylabel('Accuracy Rate')\n",
    "plt.title('Accuracy Rates for each C value')\n",
    "plt.show()\n",
    "\n",
    "_index = scores_cv.index(np.amax(scores_cv))\n",
    "\n",
    "optimal_c = _index+1\n",
    "\n",
    "print('Optimal C value is ',optimal_c,' with CV\\'s score ',round(scores_cv[_index]*100,2),' %')\n",
    "print('>Standard deviation ',round(std_cv[_index],9))\n",
    "print('>Best CV\\'s score ',round(np.amax(scores_cv)*100,2),' %')\n",
    "print('>Average CV\\'s score ',round((sum(scores_cv)/len(scores_cv))*100,2),' %')\n",
    "print('>Worst CV\\'s score ',round(np.amin(scores_cv)*100,2),' %')"
   ]
  },
  {
   "cell_type": "markdown",
   "id": "bf66af47",
   "metadata": {},
   "source": [
"### Retrain the model with the best C value."
    ]
   },
   {
    "cell_type": "code",
    "execution_count": 47,
    "id": "7a06f78f",
    "metadata": {},
    "outputs": [
     {
      "name": "stdout",
      "output_type": "stream",
      "text": [
       "Cross validation score: 85.16 %\n",
       "Standard deviation: 0.008004981\n",
       "Accuracy in fold 1 : 83.41 %\n",
       "Accuracy in fold 2 : 85.86 %\n",
       "Accuracy in fold 3 : 85.5 %\n",
       "Accuracy in fold 4 : 85.76 %\n",
       "Accuracy in fold 5 : 84.72 %\n",
       "Accuracy in fold 6 : 85.03 %\n",
       "Accuracy in fold 7 : 84.45 %\n",
       "Accuracy in fold 8 : 85.81 %\n",
       "\u001b[91m Accuracy in fold 9 : 86.22 %\u001b[90m\n",
       "Accuracy in fold 10 : 84.81 %\n"
      ]
     }
    ],
    "source": [
     "scores_cv = []\n",
     "\n",
     "svm=SVC(\n",
     " C=optimal_c,\n",
     ") \n",
     "\n",
     "scores_cv = cross_val_score(\n",
     " svm,\n",
     " _X,\n",
     " _Y,\n",
     " cv = cv\n",
     ")\n",
     "\n",
     "print(f\"Cross validation score: {round(scores_cv.mean()*100,2)} %\")\n",
     "print(f\"Standard deviation: {round(scores_cv.std(),9)}\")\n",
     "\n",
     "indx = 1\n",
     "for _ in scores_cv:\n",
     " if _ == np.amax(scores_cv):\n",
     " print(f'\\033[91m Accuracy in fold {indx} : {round(_*100,2)} %\\033[90m')\n",
     " else:\n",
     " print(f'Accuracy in fold {indx} : {round(_*100,2)} %')\n",
     "indx+=1"
    ]
   },
   {
    "cell_type": "markdown",
    "id": "bd8ab193",
    "metadata": {},
    "source": [
     "## 2.4 Light Gradient Boosted Machine"
    ]
   },
   {
    "cell_type": "code",
    "execution_count": 48,
    "id": "11686766",
    "metadata": {},
    "outputs": [],
    "source": [
     "lgbm_learning_rate = 0.05\n",
     "lgbm_epocs = 100 \n",
     "num_class = len(set(_Y)) \n",
     "random_state = 42\n",
     "\n",
     "params={}\n",
     "params['verbose'] = -1 \n",
     "params['learning_rate'] = lgbm_learning_rate\n",
     "params['boosting_type'] = 'gbdt'\n",
     "params['objective'] = 'multiclass'\n",
     "params['metric'] = 'multi_logloss'\n",
     "params['max_depth'] = 100\n",
     "params['random_state'] = random_state\n",
     "params['num_class'] = num_class "
    ]
   },
   {
    "cell_type": "code",
    "execution_count": 49,
    "id": "13262319",
    "metadata": {},
    "outputs": [
     {
      "name": "stdout",
      "output_type": "stream",
      "text": [
       "Cross validation score: 85.23 %\n",
       "Standard deviation: 0.006468179\n",
       "Accuracy in fold 1 : 84.72 %\n",
       "Accuracy in fold 2 : 85.86 %\n",
       "\u001b[91m Accuracy in fold 3 : 85.92 %\u001b[90m\n",
       "Accuracy in fold 4 : 85.6 %\n",
       "Accuracy in fold 5 : 84.3 %\n",
       "Accuracy in fold 6 : 85.34 %\n",
       "Accuracy in fold 7 : 83.93 %\n",
       "Accuracy in fold 8 : 85.76 %\n",
       "Accuracy in fold 9 : 85.39 %\n",
       "Accuracy in fold 10 : 85.44 %\n"
      ]
     }
    ],
    "source": [
     "scores_cv = []\n",
     "\n",
     "skf = StratifiedKFold( ## Split data using StratifiedKFold\n",
     " n_splits=cv, ## number of folds\n",
     " shuffle=True, \n",
     " random_state=random_state\n",
     ")\n",
     "\n",
     "for train_index, test_index in skf.split(_X, _Y): ## loop for training each fold\n",
     "\n",
     " x_train_fold, x_test_fold = _X[train_index], _X[test_index] ## Split image data\n",
     " y_train_fold, y_test_fold = _Y[train_index], _Y[test_index] ## Divide results\n",
     "\n",
     " lgbm_train_set = lgb.Dataset(x_train_fold, label=y_train_fold)\n",
     "\n",
     " clf = lgb.train(\n",
     " params,\n",
     " lgbm_train_set,\n",
     " lgbm_epocs\n",
     " )\n",
     "\n",
     " lgb_predictions = clf.predict(x_test_fold)\n",
     " lgb_pred = np.argmax(lgb_predictions, axis=1)\n",
     " \n",
     " scores_cv.append(accuracy_score(y_test_fold, lgb_pred))\n",
     " \n",
     "print(f\"Cross validation score: {round((sum(scores_cv)/len(scores_cv))*100,2)} %\")\n",
     "print(f\"Standard deviation: {round(np.std(np.array(scores_cv)),9)}\")\n",
     "\n",
     "indx = 1\n",
     "for _ in scores_cv:\n",
     " if _ == np.amax(scores_cv):\n",
     " print(f'\\033[91m Accuracy in fold {indx} : {round(_*100,2)} %\\033[90m')\n",
     " else:\n",
     " print(f'Accuracy in fold {indx} : {round(_*100,2)} %')\n",
     "indx+=1"
    ]
   },
   {
    "cell_type": "markdown",
    "id": "3db63637",
    "metadata": {},
    "source": [
     "### Find the best Max-depth value using the results of Cross-validation"
    ]
   },
   {
    "cell_type": "code",
    "execution_count": 50,
    "id": "6a0bca7f",
    "metadata": {},
    "outputs": [
     {
      "data": {
      "image/png": "[encoded data removed]",
      "text/plain": [
       "<Figure size 432x288 with 1 Axes>"
      ]
     },
     "metadata": {
      "needs_background": "light"
     },
     "output_type": "display_data"
    },
    {
     "name": "stdout",
     "output_type": "stream",
     "text": [
      "Optimal Max-depth is  8  with CV's score  85.19  %\n",
      ">Standard deviation  0.006518111\n",
      ">Best CV's score  85.19  %\n",
      ">Average CV's score  84.33  %\n",
      ">Worst CV's score  82.88  %\n"
     ]
    }
   ],
   "source": [
    "max_depth_range = list(range(2,10))\n",
    "scores_cv = []\n",
    "std_cv = []\n",
    "\n",
    "for _ in max_depth_range:\n",
    "\n",
    "    skf = StratifiedKFold(\n",
    "        n_splits=cv, \n",
    "        shuffle=True, \n",
    "        random_state=random_state\n",
    "    )\n",
    "\n",
    "    params['max_depth']= _\n",
    "\n",
    "    lst_accu_stratified = []\n",
    "\n",
    "    for train_index, test_index in skf.split(_X, _Y):\n",
    "\n",
    "        x_train_fold, x_test_fold = _X[train_index], _X[test_index]\n",
    "        y_train_fold, y_test_fold = _Y[train_index], _Y[test_index]\n",
    "\n",
    "        lgbm_train_set = lgb.Dataset(x_train_fold, label=y_train_fold)\n",
    "        \n",
    "        clf = lgb.train(\n",
    "            params,\n",
    "            lgbm_train_set,\n",
    "            lgbm_epocs\n",
    "            )\n",
    "\n",
    "        lgb_predictions = clf.predict(x_test_fold)\n",
    "        lgb_pred = np.argmax(lgb_predictions, axis=1)\n",
    "        \n",
    "        lst_accu_stratified.append(accuracy_score(y_test_fold, lgb_pred))\n",
    "\n",
    "    scores_cv.append(sum(lst_accu_stratified)/len(lst_accu_stratified))\n",
    "    std_cv.append(np.std(np.array(lst_accu_stratified)))\n",
    "\n",
    "    \n",
    "plt.plot(max_depth_range, scores_cv, 'y', dashes=[6, 2], label = \"Prediction accuracy\",\n",
    "         color='blue',linestyle='dashed',marker='o', markerfacecolor='red', markersize='5')\n",
    "plt.legend(bbox_to_anchor=(1.05, 1), loc=2, borderaxespad=0.)\n",
    "plt.xlabel('Optimal Max-depth')\n",
    "plt.ylabel('Accuracy Rate')\n",
    "plt.title('Accuracy Rates for each Max-depth')\n",
    "plt.show()\n",
    "\n",
    "_index = scores_cv.index(np.amax(scores_cv))\n",
    "\n",
    "optimal_max_depth = _index+2\n",
    "\n",
    "print('Optimal Max-depth is ',optimal_max_depth,' with CV\\'s score ',round(scores_cv[_index]*100,2),' %')\n",
    "print('>Standard deviation ',round(std_cv[_index],9))\n",
    "print('>Best CV\\'s score ',round(np.amax(scores_cv)*100,2),' %')\n",
    "print('>Average CV\\'s score ',round((sum(scores_cv)/len(scores_cv))*100,2),' %')\n",
    "print('>Worst CV\\'s score ',round(np.amin(scores_cv)*100,2),' %')"
   ]
  },
  {
   "cell_type": "markdown",
   "id": "fe4e46f5",
   "metadata": {},
   "source": [
"### Retrain the model with the best Max-depth value."
    ]
   },
   {
    "cell_type": "code",
    "execution_count": 51,
    "id": "bcafe4e0",
    "metadata": {},
    "outputs": [
     {
      "name": "stdout",
      "output_type": "stream",
      "text": [
       "Cross validation score: 85.19 %\n",
       "Standard deviation: 0.006518111\n",
       "Accuracy in fold 1 : 84.45 %\n",
       "Accuracy in fold 2 : 85.81 %\n",
       "\u001b[91m Accuracy in fold 3 : 86.07 %\u001b[90m\n",
       "\u001b[91m Accuracy in fold 4 : 86.07 %\u001b[90m\n",
       "Accuracy in fold 5 : 84.56 %\n",
       "Accuracy in fold 6 : 85.03 %\n",
       "Accuracy in fold 7 : 84.09 %\n",
       "Accuracy in fold 8 : 85.5 %\n",
       "Accuracy in fold 9 : 85.28 %\n",
       "Accuracy in fold 10 : 85.02 %\n"
      ]
     }
    ],
    "source": [
     "scores_cv = []\n",
     "\n",
     "params['max_depth']= optimal_max_depth\n",
     "\n",
     "skf = StratifiedKFold(\n",
     " n_splits=cv, \n",
     " shuffle=True, \n",
     " random_state=random_state\n",
     ")\n",
     "\n",
     "for train_index, test_index in skf.split(_X, _Y):\n",
     "\n",
     " x_train_fold, x_test_fold = _X[train_index], _X[test_index]\n",
     " y_train_fold, y_test_fold = _Y[train_index], _Y[test_index]\n",
     "\n",
     " lgbm_train_set = lgb.Dataset(x_train_fold, label=y_train_fold)\n",
     "\n",
     " clf = lgb.train(\n",
     " params,\n",
     " lgbm_train_set,\n",
     " lgbm_epocs\n",
     " )\n",
     "\n",
     " lgb_predictions = clf.predict(x_test_fold)\n",
     " lgb_pred = np.argmax(lgb_predictions, axis=1)\n",
     " \n",
     " scores_cv.append(accuracy_score(y_test_fold, lgb_pred))\n",
     "\n",
     "\n",
     "print(f\"Cross validation score: {round((sum(scores_cv)/len(scores_cv))*100,2)} %\")\n",
     "print(f\"Standard deviation: {round(np.std(np.array(scores_cv)),9)}\")\n",
     "\n",
     "indx = 1\n",
     "for _ in scores_cv:\n",
     " if _ == np.amax(scores_cv):\n",
     " print(f'\\033[91m Accuracy in fold {indx} : {round(_*100,2)} %\\033[90m')\n",
     " else:\n",
     " print(f'Accuracy in fold {indx} : {round(_*100,2)} %')\n",
     "indx+=1"
    ]
   },
   {
    "cell_type": "code",
    "execution_count": null,
    "id": "6021cf45",
    "metadata": {},
    "outputs": [],
    "source": []
   }
  ],
  "metadata": {
   "hide_input": false,
   "kernelspec": {
    "display_name": "Python 3 (ipykernel)",
    "language": "python",
    "name": "python3"
   },
   "language_info": {
    "codemirror_mode": {
     "name": "ipython",
     "version": 3
    },
    "file_extension": ".py",
    "mimetype": "text/x-python",
    "name": "python",
    "nbconvert_exporter": "python",
    "pygments_lexer": "ipython3",
    "version": "3.11.5"
   },
   "widgets": {
    "application/vnd.jupyter.widget-state+json": {
     "state": {},
     "version_major": 2,
     "version_minor": 0
    }
   }
  },
  "nbformat": 4,
  "nbformat_minor": 5
}